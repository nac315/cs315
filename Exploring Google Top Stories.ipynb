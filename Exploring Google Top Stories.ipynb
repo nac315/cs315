{
 "cells": [
  {
   "cell_type": "markdown",
   "id": "1dbe4353-ae93-4f8c-b244-5f5488134979",
   "metadata": {},
   "source": [
    "# Google Top Stories - An exploration\n",
    "\n",
    "This dataset was collected during the pandemic, it contains headlines shown by Google Search.\n",
    "\n",
    "The dataset is organized by year, month, date, hour, in a series of nested folders. The leaf folders contain JSON files with information about top stories. \n",
    "\n",
    "Your goal is to write first Python function that takes the name of the folder \"GoogleTopStories\" and stores the content of all the JSON files into a single CSV file. Once you have a CSV file, you can practice your pandas & seaborn skills in analyzing the data.\n",
    "\n",
    "Some tips and ideas for analysis:\n",
    "1. Use the Python command `os.walk` to iteratively traverse the nested subfolders. Account for hidden files that start with .\n",
    "2. Although the dataset has a column domain, imagine that it doesn't have it and write a function that takes a URL and extract the domain name from it and saves it in a colum. Use the .apply method to create the column. Learn how to parse URLs with urllib.parse.\n",
    "3. Create a bar chart with the frequencies of the top 10 domains. (Use domains, since 'source name' contains duplicates.)\n",
    "4. Create a heatmap that shows the distribution of domains across the 'story_position' values.\n",
    "5. Create timeseries of unique articles per month by query type. (This is challenging.)"
   ]
  },
  {
   "cell_type": "code",
   "execution_count": 50,
   "id": "2cd93b62-65e6-41e1-b7d2-fa9bfbf517bf",
   "metadata": {},
   "outputs": [],
   "source": [
    "import csv\n",
    "import os\n",
    "import json\n",
    "import pandas as pd\n",
    "from urllib.parse import urlparse\n",
    "import seaborn as sns\n",
    "import matplotlib.pyplot as plt\n"
   ]
  },
  {
   "cell_type": "code",
   "execution_count": 36,
   "id": "56dd836f",
   "metadata": {},
   "outputs": [
    {
     "data": {
      "text/html": [
       "<div>\n",
       "<style scoped>\n",
       "    .dataframe tbody tr th:only-of-type {\n",
       "        vertical-align: middle;\n",
       "    }\n",
       "\n",
       "    .dataframe tbody tr th {\n",
       "        vertical-align: top;\n",
       "    }\n",
       "\n",
       "    .dataframe thead th {\n",
       "        text-align: right;\n",
       "    }\n",
       "</style>\n",
       "<table border=\"1\" class=\"dataframe\">\n",
       "  <thead>\n",
       "    <tr style=\"text-align: right;\">\n",
       "      <th></th>\n",
       "      <th>title</th>\n",
       "      <th>url</th>\n",
       "      <th>source</th>\n",
       "      <th>time</th>\n",
       "      <th>date</th>\n",
       "      <th>query</th>\n",
       "      <th>story_position</th>\n",
       "      <th>domain</th>\n",
       "    </tr>\n",
       "  </thead>\n",
       "  <tbody>\n",
       "    <tr>\n",
       "      <th>0</th>\n",
       "      <td>UK Travelers Must Get A Negative Coronavirus T...</td>\n",
       "      <td>https://www.npr.org/sections/coronavirus-live-...</td>\n",
       "      <td>NPR</td>\n",
       "      <td>6 hours ago</td>\n",
       "      <td>2020-12-25 10:00:00</td>\n",
       "      <td>coronavirus test</td>\n",
       "      <td>1</td>\n",
       "      <td>www.npr.org</td>\n",
       "    </tr>\n",
       "    <tr>\n",
       "      <th>1</th>\n",
       "      <td>US Needs More Coronavirus Tests To Stop The Wi...</td>\n",
       "      <td>https://www.npr.org/sections/health-shots/2020...</td>\n",
       "      <td>NPR</td>\n",
       "      <td>3 days ago</td>\n",
       "      <td>2020-12-25 10:00:00</td>\n",
       "      <td>coronavirus test</td>\n",
       "      <td>2</td>\n",
       "      <td>www.npr.org</td>\n",
       "    </tr>\n",
       "    <tr>\n",
       "      <th>2</th>\n",
       "      <td>US requires negative coronavirus test from UK ...</td>\n",
       "      <td>https://www.theverge.com/2020/12/25/22199682/c...</td>\n",
       "      <td>The Verge</td>\n",
       "      <td>1 hour ago</td>\n",
       "      <td>2020-12-25 10:00:00</td>\n",
       "      <td>coronavirus test</td>\n",
       "      <td>3</td>\n",
       "      <td>www.theverge.com</td>\n",
       "    </tr>\n",
       "  </tbody>\n",
       "</table>\n",
       "</div>"
      ],
      "text/plain": [
       "                                               title  \\\n",
       "0  UK Travelers Must Get A Negative Coronavirus T...   \n",
       "1  US Needs More Coronavirus Tests To Stop The Wi...   \n",
       "2  US requires negative coronavirus test from UK ...   \n",
       "\n",
       "                                                 url     source         time  \\\n",
       "0  https://www.npr.org/sections/coronavirus-live-...        NPR  6 hours ago   \n",
       "1  https://www.npr.org/sections/health-shots/2020...        NPR   3 days ago   \n",
       "2  https://www.theverge.com/2020/12/25/22199682/c...  The Verge   1 hour ago   \n",
       "\n",
       "                  date             query  story_position            domain  \n",
       "0  2020-12-25 10:00:00  coronavirus test               1       www.npr.org  \n",
       "1  2020-12-25 10:00:00  coronavirus test               2       www.npr.org  \n",
       "2  2020-12-25 10:00:00  coronavirus test               3  www.theverge.com  "
      ]
     },
     "execution_count": 36,
     "metadata": {},
     "output_type": "execute_result"
    }
   ],
   "source": [
    "\n",
    "def storejson(folder):\n",
    "    content = []\n",
    "\n",
    "    for root, dirs, files in os.walk(folder):\n",
    "        for file in files:\n",
    "            if file.endswith('.json'):\n",
    "                with open(os.path.join(root, file), 'r') as f: # can't jusy say with open(file, 'r') becuase it doesn't inclide the path to the file. it is why you keep getting FileNotFoundError: [Errno 2] No such file or directory: 'Covid-19.json' \n",
    "                    data = json.load(f)\n",
    "                    content.extend(data)  ##\n",
    "\n",
    "    return pd.DataFrame(data)\n",
    "\n",
    "storejson('GoogleTopStories')\n",
    "\n"
   ]
  },
  {
   "cell_type": "code",
   "execution_count": 39,
   "id": "20590d38",
   "metadata": {},
   "outputs": [],
   "source": [
    "def Domain(url):\n",
    "    return urlparse(url).netloc #what is this doing? extracts the network location \n"
   ]
  },
  {
   "cell_type": "code",
   "execution_count": 40,
   "id": "13d80a12",
   "metadata": {},
   "outputs": [],
   "source": [
    "df=storejson('GoogleTopStories')"
   ]
  },
  {
   "cell_type": "code",
   "execution_count": 41,
   "id": "70b842e0",
   "metadata": {},
   "outputs": [],
   "source": [
    "#write the data into the csv\n",
    "\n",
    "df.to_csv('GoogleTopStories.csv', index=False)"
   ]
  },
  {
   "cell_type": "code",
   "execution_count": null,
   "id": "46d5bb1a",
   "metadata": {},
   "outputs": [],
   "source": [
    "# How to get the domain from URL? use apply function \n",
    "df['domain'] = df['url'].apply(Domain) #  add it as a new column"
   ]
  },
  {
   "cell_type": "code",
   "execution_count": 42,
   "id": "0b815ba2",
   "metadata": {},
   "outputs": [],
   "source": [
    "#get the top 10 domain\n",
    "domaincount = df['domain'].value_counts().head(10)"
   ]
  },
  {
   "cell_type": "code",
   "execution_count": 48,
   "id": "17f3590c",
   "metadata": {},
   "outputs": [
    {
     "data": {
      "image/png": "[encoded data removed]",
      "text/plain": [
       "<Figure size 1000x800 with 1 Axes>"
      ]
     },
     "metadata": {},
     "output_type": "display_data"
    }
   ],
   "source": [
    "#bar plot \n",
    "plt.figure(figsize=(10,8))\n",
    "\n",
    "fig = sns.barplot(x=domaincount.values, \n",
    "                  y=domaincount.index)\n",
    "plt.title('Top 10 Domains')\n",
    "plt.xlabel('Frequency')\n",
    "plt.ylabel('Domain')\n",
    "plt.show()\n",
    "\n"
   ]
  },
  {
   "cell_type": "code",
   "execution_count": 54,
   "id": "ad22f7f3",
   "metadata": {},
   "outputs": [
    {
     "name": "stdout",
     "output_type": "stream",
     "text": [
      "['title', 'url', 'source', 'time', 'date', 'query', 'story_position', 'domain']\n",
      "['UK Travelers Must Get A Negative Coronavirus Test Before Coming Into US : \\nCoronavirus Updates', 'https://www.npr.org/sections/coronavirus-live-updates/2020/12/25/950218997/u-s-now-requires-all-u-k-travelers-to-have-a-negative-coronavirus-test', 'NPR', '6 hours ago', '2020-12-25 10:00:00', 'coronavirus test', '1', 'www.npr.org']\n",
      "['US Needs More Coronavirus Tests To Stop The Winter Surge : Shots - Health \\nNews', 'https://www.npr.org/sections/health-shots/2020/12/22/948085513/vaccines-are-coming-but-the-u-s-still-needs-more-testing-to-stop-the-surge', 'NPR', '3 days ago', '2020-12-25 10:00:00', 'coronavirus test', '2', 'www.npr.org']\n",
      "['US requires negative coronavirus test from UK travelers', 'https://www.theverge.com/2020/12/25/22199682/covid-test-uk-travelers-us-cdc-virus-mutation', 'The Verge', '1 hour ago', '2020-12-25 10:00:00', 'coronavirus test', '3', 'www.theverge.com']\n"
     ]
    }
   ],
   "source": [
    "#Create a heatmap that shows the distribution of domains across the 'story_position' values\n",
    "import csv\n",
    "\n",
    "with open(\"GoogleTopStories.csv\", \"r\") as infile:\n",
    "    reader = csv.reader(infile)\n",
    "    for row in reader:\n",
    "        print(row)\n",
    "\n",
    "    "
   ]
  },
  {
   "cell_type": "code",
   "execution_count": 60,
   "id": "e55e16ec",
   "metadata": {},
   "outputs": [
    {
     "data": {
      "image/png": "[encoded data removed]",
      "text/plain": [
       "<Figure size 1000x800 with 2 Axes>"
      ]
     },
     "metadata": {},
     "output_type": "display_data"
    }
   ],
   "source": [
    "#matr = [row]\n",
    "#matr\n",
    "\n",
    "#fig5 = sns.heatmap(matr)\n",
    "\n",
    "#Create a pivot table\n",
    "matr = df.pivot_table(index='domain', columns='story_position', aggfunc='size', fill_value=0)\n",
    "\n",
    "# Create a heatmap\n",
    "plt.figure(figsize=(10,8))\n",
    "sns.heatmap(matr, cmap='viridis')\n",
    "plt.title('Domain Distributions')\n",
    "plt.show()\n",
    "    \n"
   ]
  },
  {
   "cell_type": "code",
   "execution_count": 59,
   "id": "413e3d57",
   "metadata": {},
   "outputs": [
    {
     "name": "stdout",
     "output_type": "stream",
     "text": [
      "Help on function heatmap in module seaborn.matrix:\n",
      "\n",
      "heatmap(data, *, vmin=None, vmax=None, cmap=None, center=None, robust=False, annot=None, fmt='.2g', annot_kws=None, linewidths=0, linecolor='white', cbar=True, cbar_kws=None, cbar_ax=None, square=False, xticklabels='auto', yticklabels='auto', mask=None, ax=None, **kwargs)\n",
      "    Plot rectangular data as a color-encoded matrix.\n",
      "    \n",
      "    This is an Axes-level function and will draw the heatmap into the\n",
      "    currently-active Axes if none is provided to the ``ax`` argument.  Part of\n",
      "    this Axes space will be taken and used to plot a colormap, unless ``cbar``\n",
      "    is False or a separate Axes is provided to ``cbar_ax``.\n",
      "    \n",
      "    Parameters\n",
      "    ----------\n",
      "    data : rectangular dataset\n",
      "        2D dataset that can be coerced into an ndarray. If a Pandas DataFrame\n",
      "        is provided, the index/column information will be used to label the\n",
      "        columns and rows.\n",
      "    vmin, vmax : floats, optional\n",
      "        Values to anchor the colormap, otherwise they are inferred from the\n",
      "        data and other keyword arguments.\n",
      "    cmap : matplotlib colormap name or object, or list of colors, optional\n",
      "        The mapping from data values to color space. If not provided, the\n",
      "        default will depend on whether ``center`` is set.\n",
      "    center : float, optional\n",
      "        The value at which to center the colormap when plotting divergent data.\n",
      "        Using this parameter will change the default ``cmap`` if none is\n",
      "        specified.\n",
      "    robust : bool, optional\n",
      "        If True and ``vmin`` or ``vmax`` are absent, the colormap range is\n",
      "        computed with robust quantiles instead of the extreme values.\n",
      "    annot : bool or rectangular dataset, optional\n",
      "        If True, write the data value in each cell. If an array-like with the\n",
      "        same shape as ``data``, then use this to annotate the heatmap instead\n",
      "        of the data. Note that DataFrames will match on position, not index.\n",
      "    fmt : str, optional\n",
      "        String formatting code to use when adding annotations.\n",
      "    annot_kws : dict of key, value mappings, optional\n",
      "        Keyword arguments for :meth:`matplotlib.axes.Axes.text` when ``annot``\n",
      "        is True.\n",
      "    linewidths : float, optional\n",
      "        Width of the lines that will divide each cell.\n",
      "    linecolor : color, optional\n",
      "        Color of the lines that will divide each cell.\n",
      "    cbar : bool, optional\n",
      "        Whether to draw a colorbar.\n",
      "    cbar_kws : dict of key, value mappings, optional\n",
      "        Keyword arguments for :meth:`matplotlib.figure.Figure.colorbar`.\n",
      "    cbar_ax : matplotlib Axes, optional\n",
      "        Axes in which to draw the colorbar, otherwise take space from the\n",
      "        main Axes.\n",
      "    square : bool, optional\n",
      "        If True, set the Axes aspect to \"equal\" so each cell will be\n",
      "        square-shaped.\n",
      "    xticklabels, yticklabels : \"auto\", bool, list-like, or int, optional\n",
      "        If True, plot the column names of the dataframe. If False, don't plot\n",
      "        the column names. If list-like, plot these alternate labels as the\n",
      "        xticklabels. If an integer, use the column names but plot only every\n",
      "        n label. If \"auto\", try to densely plot non-overlapping labels.\n",
      "    mask : bool array or DataFrame, optional\n",
      "        If passed, data will not be shown in cells where ``mask`` is True.\n",
      "        Cells with missing values are automatically masked.\n",
      "    ax : matplotlib Axes, optional\n",
      "        Axes in which to draw the plot, otherwise use the currently-active\n",
      "        Axes.\n",
      "    kwargs : other keyword arguments\n",
      "        All other keyword arguments are passed to\n",
      "        :meth:`matplotlib.axes.Axes.pcolormesh`.\n",
      "    \n",
      "    Returns\n",
      "    -------\n",
      "    ax : matplotlib Axes\n",
      "        Axes object with the heatmap.\n",
      "    \n",
      "    See Also\n",
      "    --------\n",
      "    clustermap : Plot a matrix using hierarchical clustering to arrange the\n",
      "                 rows and columns.\n",
      "    \n",
      "    Examples\n",
      "    --------\n",
      "    \n",
      "    .. include:: ../docstrings/heatmap.rst\n",
      "\n"
     ]
    }
   ],
   "source": [
    "help(sns.heatmap)"
   ]
  },
  {
   "cell_type": "code",
   "execution_count": null,
   "id": "f7ea2f6b",
   "metadata": {},
   "outputs": [],
   "source": []
  }
 ],
 "metadata": {
  "kernelspec": {
   "display_name": "Python 3 (ipykernel)",
   "language": "python",
   "name": "python3"
  },
  "language_info": {
   "codemirror_mode": {
    "name": "ipython",
    "version": 3
   },
   "file_extension": ".py",
   "mimetype": "text/x-python",
   "name": "python",
   "nbconvert_exporter": "python",
   "pygments_lexer": "ipython3",
   "version": "3.11.3"
  }
 },
 "nbformat": 4,
 "nbformat_minor": 5
}
