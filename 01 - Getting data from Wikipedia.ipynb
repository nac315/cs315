{
 "cells": [
  {
   "cell_type": "markdown",
   "metadata": {},
   "source": [
    "# Getting Data from Wikipedia\n",
    " \n",
    "This short notebook shows how to work with the **mwclient** library to exlore the content of Wikipedia pages. It's an example of a API wrapper, that facilitates working with the underlying API, the [MediaWikiAPI](https://www.mediawiki.org/wiki/API:Main_page).\n",
    "\n",
    "Once you learn how to use the library, you will complete a task that collects revisions for a particular Wikipedia page to be used later.\n",
    "\n",
    "**Table of Content**\n",
    "1. [Installing the `mwclient` module](#sec1)\n",
    "2. [Connecting to a site and working with pages](#sec2)\n",
    "3. [The Wellesley College page](#sec3)\n",
    "4. [Exploring Wellesley's Wiki page revisions](#sec4)\n",
    "5. **[Tasks for you: Dobbs v. Jackson](#sec5)**"
   ]
  },
  {
   "cell_type": "markdown",
   "metadata": {},
   "source": [
    "## 1. Installing the `mwclient` module\n",
    "\n",
    "In this notebook I've used the module [mwclient](http://mwclient.readthedocs.io/en/latest/index.html). The name stands for \"Media Wiki Client\". It's a library to access the Wikipedia pages through Python.\n",
    "\n",
    "Since this is your first time using this library, you have to install it first.  \n",
    "**Note:** Older notebook versions might require the use of the exclamation mark symbol before `pip`."
   ]
  },
  {
   "cell_type": "code",
   "execution_count": 1,
   "metadata": {},
   "outputs": [
    {
     "name": "stdout",
     "output_type": "stream",
     "text": [
      "Collecting mwclient\n",
      "  Downloading mwclient-0.10.1-py2.py3-none-any.whl (27 kB)\n",
      "Collecting requests-oauthlib (from mwclient)\n",
      "  Downloading requests_oauthlib-2.0.0-py2.py3-none-any.whl (24 kB)\n",
      "Requirement already satisfied: six in /Users/naima.abdirahman/anaconda3/lib/python3.11/site-packages (from mwclient) (1.16.0)\n",
      "Collecting oauthlib>=3.0.0 (from requests-oauthlib->mwclient)\n",
      "  Downloading oauthlib-3.2.2-py3-none-any.whl (151 kB)\n",
      "\u001b[2K     \u001b[90m━━━━━━━━━━━━━━━━━━━━━━━━━━━━━━━━━━━━━━━\u001b[0m \u001b[32m151.7/151.7 kB\u001b[0m \u001b[31m8.2 MB/s\u001b[0m eta \u001b[36m0:00:00\u001b[0m\n",
      "\u001b[?25hRequirement already satisfied: requests>=2.0.0 in /Users/naima.abdirahman/anaconda3/lib/python3.11/site-packages (from requests-oauthlib->mwclient) (2.29.0)\n",
      "Requirement already satisfied: charset-normalizer<4,>=2 in /Users/naima.abdirahman/anaconda3/lib/python3.11/site-packages (from requests>=2.0.0->requests-oauthlib->mwclient) (2.0.4)\n",
      "Requirement already satisfied: idna<4,>=2.5 in /Users/naima.abdirahman/anaconda3/lib/python3.11/site-packages (from requests>=2.0.0->requests-oauthlib->mwclient) (3.4)\n",
      "Requirement already satisfied: urllib3<1.27,>=1.21.1 in /Users/naima.abdirahman/anaconda3/lib/python3.11/site-packages (from requests>=2.0.0->requests-oauthlib->mwclient) (1.26.16)\n",
      "Requirement already satisfied: certifi>=2017.4.17 in /Users/naima.abdirahman/anaconda3/lib/python3.11/site-packages (from requests>=2.0.0->requests-oauthlib->mwclient) (2023.5.7)\n",
      "Installing collected packages: oauthlib, requests-oauthlib, mwclient\n",
      "Successfully installed mwclient-0.10.1 oauthlib-3.2.2 requests-oauthlib-2.0.0\n",
      "Note: you may need to restart the kernel to use updated packages.\n"
     ]
    }
   ],
   "source": [
    "pip install mwclient"
   ]
  },
  {
   "cell_type": "code",
   "execution_count": 2,
   "metadata": {},
   "outputs": [],
   "source": [
    "# check if module is installed\n",
    "import mwclient"
   ]
  },
  {
   "cell_type": "markdown",
   "metadata": {},
   "source": [
    "<a id=\"sec2\"></a>"
   ]
  },
  {
   "cell_type": "markdown",
   "metadata": {},
   "source": [
    "## 2. Connecting to a wiki site and getting pages\n",
    "\n",
    "There are many wiki websites that are accessed by MediaWikiAPI. We need to provide the URL of the one we will work with, in our case the English Wikipedia."
   ]
  },
  {
   "cell_type": "code",
   "execution_count": 3,
   "metadata": {},
   "outputs": [],
   "source": [
    "from mwclient import Site\n",
    "site = Site('en.wikipedia.org')"
   ]
  },
  {
   "cell_type": "markdown",
   "metadata": {},
   "source": [
    "It's possible to search for pages based on a simple query term, given that we will search within the `site`:"
   ]
  },
  {
   "cell_type": "code",
   "execution_count": 4,
   "metadata": {},
   "outputs": [
    {
     "data": {
      "text/plain": [
       "<Page object 'b'Wellesley'' for <Site object 'en.wikipedia.org/w/'>>"
      ]
     },
     "execution_count": 4,
     "metadata": {},
     "output_type": "execute_result"
    }
   ],
   "source": [
    "page = site.pages['Wellesley']\n",
    "page"
   ]
  },
  {
   "cell_type": "markdown",
   "metadata": {},
   "source": [
    "And we can read the text of the page, which in this case appears to be a disambiguation page with links to many pages that contain the word \"Wellesley\":"
   ]
  },
  {
   "cell_type": "code",
   "execution_count": 5,
   "metadata": {},
   "outputs": [
    {
     "data": {
      "text/plain": [
       "\"'''Wellesley''' may refer to:\\n{{TOC right}}\\n\\n* \\n\\n== People ==\\n===Dukes of Wellington===\\n* [[Arthur Wellesley, 1st Duke of Wellington]] (1769–1852), British soldier, statesman, and Prime Minister of the United Kingdom\\n* [[Arthur Wellesley, 2nd Duke of Wellington]] (1807–1884), British politician\\n* [[Henry Wellesley, 3rd Duke of Wellington]] (1846–1900), British soldier and politician\\n* [[Arthur Wellesley, 4th Duke of Wellington]] (1849–1934), British soldier\\n* [[Arthur Wellesley, 5th Duke of Wellington]] (1876–1941), British soldier\\n* [[Henry Wellesley, 6th Duke of Wellington]] (1912–1943), British soldier\\n* [[Gerald Wellesley, 7th Duke of Wellington]] (1885–1972), British soldier and diplomat\\n* [[Valerian Wellesley, 8th Duke of Wellington]] (1915–2014), British soldier\\n* [[Charles Wellesley, 9th Duke of Wellington]] (born 1945), British politician and businessman\\n\\n==Barons Cowley (1828)==\\n* [[Henry Wellesley, 1st Baron Cowley]] (1773–1847)\\n* [[Henry Wellesley, 1st Earl Cowley|Henry Richard Charles Wellesley, 2nd Baron Cowley]] (1804–1884) (created '''Earl Cowley''' in 1857)\\n\\n==Earls Cowley (1857)==\\n* [[Henry Wellesley, 1st Earl Cowley|Henry Richard Charles Wellesley, 1st Earl Cowley]] (1804–1884)\\n* [[William Wellesley, 2nd Earl Cowley|William Henry Wellesley, 2nd Earl Cowley]] (1834–1895)\\n* [[Henry Arthur Mornington Wellesley, 3rd Earl Cowley]] (1866–1919)\\n* [[Christian Arthur Wellesley, 4th Earl Cowley]] (1890–1962)\\n* [[Denis Wellesley, 5th Earl Cowley|Denis Arthur Wellesley, 5th Earl Cowley]] (1921–1968)\\n* [[Richard Wellesley, 6th Earl Cowley|Richard Francis Wellesley, 6th Earl Cowley]] (1946–1975)\\n* [[Garret Wellesley, 7th Earl Cowley|Garret Graham Wellesley, 7th Earl Cowley]] (1934–2016)\\n* Garret [[Graham Wellesley, 8th Earl Cowley]] (born 30 March 1965), styled Viscount Dangan from 1975 to 2016\\n\\nThe [[heir apparent]] is the present holder's son Henry Arthur Peter Wellesley, Viscount Dangan (b. 1991).\\n\\n===Others, including relatives of Dukes===\\n* [[Arthur Wellesley, Marquess of Douro]] (born 1978), British businessman\\n* [[Lord Charles Wellesley]] (1808–1858), British politician\\n* [[Charles Wellesley]] (1873–1946), American actor\\n* [[Lady Charlotte Wellesley]] (born 1990), British producer and socialite\\n* [[Elizabeth Wellesley, Duchess of Wellington]] (1820–1904), Mistress of the Robes\\n* [[Lady Elizabeth Wellesley]] (1918–2013), British socialite\\n* [[Lord George Wellesley]] (1889–1967), British soldier\\n* [[Gerald Valerian Wellesley (born 1770)|Gerald Valerian Wellesley]] (1770–1848), Irish clergyman\\n* [[Lady Jane Wellesley]] (born 1951), British writer and television producer\\n* [[Richard Wellesley, 1st Marquess Wellesley]] (1760–1842), Irish peer, statesman, and Governor-General of India\\n* [[Walter Wellesley]] (c. 1470–1539), prior of Great Connell priory and bishop of Kildare\\n\\n== Places and institutions ==\\n\\n=== Australia ===\\n\\n* [[Wellesley, Queensland]], a locality in the Maranoa Region\\n\\n* [[Wellesley Islands]], an island group in the Gulf of Carpentaria, Queensland, and locality in the Shire of Mornington\\n**[[South Wellesley Islands]], an island group in the Gulf of Carpentaria, Queensland, and locality in the Shire of Mornington\\n**[[West Wellesley Islands]], an island group in the Gulf of Carpentaria, Queensland, and locality in the Shire of Mornington\\n\\n=== Canada ===\\n\\n* [[Wellesley, Ontario]], Canada, a township\\n* [[Wellesley (TTC)]], a subway station in Toronto, Ontario\\n\\n=== Malaysia ===\\n\\n* [[Province Wellesley]], Penang, Malaysia, known in Malay as Seberang Prai\\n\\n=== New Zealand ===\\n\\n* [[Wellesley College, New Zealand]], private boys-only independent primary school in New Zealand\\n\\n=== United States ===\\n\\n*[[Wellesley, Massachusetts]], United States\\n**[[Wellesley College]], private women's liberal arts college in Wellesley, Massachusetts\\n**[[Wellesley High School]], public high school in Wellesley, Massachusetts\\n\\n== Ships ==\\n\\n*[[HMS Wellesley|HMS ''Wellesley'']], name of two Royal Navy ships\\n\\n==Other uses==\\n\\n*[[Wellesley & Co.]], Founded in November 2013, Wellesley provides asset-backed loans secured on residential property.\\n* The [[Vickers Wellesley]], 1930s single-engine medium bomber of the Royal Air Force\\n* Wellesley marriage, defunct term for (not necessarily sexual) same-sex cohabitation, see [[Boston marriage]]\\n\\n{{disambiguation|geo|surname}}\""
      ]
     },
     "execution_count": 5,
     "metadata": {},
     "output_type": "execute_result"
    }
   ],
   "source": [
    "page.text()"
   ]
  },
  {
   "cell_type": "markdown",
   "metadata": {},
   "source": [
    "### 2.a What else does a page contain?\n",
    "\n",
    "Let's looks at some properties that the page contains:"
   ]
  },
  {
   "cell_type": "markdown",
   "metadata": {},
   "source": [
    "**Categories:** Most pages in Wikipedia are assigned categories, which we can access:"
   ]
  },
  {
   "cell_type": "code",
   "execution_count": 6,
   "metadata": {},
   "outputs": [
    {
     "name": "stdout",
     "output_type": "stream",
     "text": [
      "<Category object 'b'Category:All article disambiguation pages'' for <Site object 'en.wikipedia.org/w/'>>\n",
      "<Category object 'b'Category:All disambiguation pages'' for <Site object 'en.wikipedia.org/w/'>>\n",
      "<Category object 'b'Category:Disambiguation pages'' for <Site object 'en.wikipedia.org/w/'>>\n",
      "<Category object 'b'Category:Disambiguation pages with surname-holder lists'' for <Site object 'en.wikipedia.org/w/'>>\n",
      "<Category object 'b'Category:Place name disambiguation pages'' for <Site object 'en.wikipedia.org/w/'>>\n",
      "<Category object 'b'Category:Short description is different from Wikidata'' for <Site object 'en.wikipedia.org/w/'>>\n"
     ]
    }
   ],
   "source": [
    "for cat in page.categories():\n",
    "    print(cat)"
   ]
  },
  {
   "cell_type": "markdown",
   "metadata": {},
   "source": [
    "**Links:** A page has many links to other Wikipedia pages, we can access them too:"
   ]
  },
  {
   "cell_type": "code",
   "execution_count": 7,
   "metadata": {},
   "outputs": [
    {
     "data": {
      "text/plain": [
       "[<Page object 'b'Denis Wellesley, 5th Earl Cowley'' for <Site object 'en.wikipedia.org/w/'>>,\n",
       " <Page object 'b'Arthur Wellesley, 1st Duke of Wellington'' for <Site object 'en.wikipedia.org/w/'>>,\n",
       " <Page object 'b'Arthur Wellesley, 2nd Duke of Wellington'' for <Site object 'en.wikipedia.org/w/'>>,\n",
       " <Page object 'b'Arthur Wellesley, 4th Duke of Wellington'' for <Site object 'en.wikipedia.org/w/'>>,\n",
       " <Page object 'b'Arthur Wellesley, 5th Duke of Wellington'' for <Site object 'en.wikipedia.org/w/'>>]"
      ]
     },
     "execution_count": 7,
     "metadata": {},
     "output_type": "execute_result"
    }
   ],
   "source": [
    "links = [l for l in page.links()]\n",
    "links[:5]"
   ]
  },
  {
   "cell_type": "markdown",
   "metadata": {},
   "source": [
    "**IMPORTANT - Lazy behavior:** Simply calling the method `links` on the page object will not give us the list of links:"
   ]
  },
  {
   "cell_type": "code",
   "execution_count": 8,
   "metadata": {},
   "outputs": [
    {
     "data": {
      "text/plain": [
       "<List object 'links' for <Site object 'en.wikipedia.org/w/'>>"
      ]
     },
     "execution_count": 8,
     "metadata": {},
     "output_type": "execute_result"
    }
   ],
   "source": [
    "page.links()"
   ]
  },
  {
   "cell_type": "markdown",
   "metadata": {},
   "source": [
    "We need to iterate over this object to get the links, which themselves are objects pointing to the pages."
   ]
  },
  {
   "cell_type": "markdown",
   "metadata": {},
   "source": [
    "### 2.b What's in a page object?\n",
    "\n",
    "As we saw above, each link shows up as a page object in the list of links. This is because these are all Wikipedia articles. Let's verify again that each page is an object:"
   ]
  },
  {
   "cell_type": "code",
   "execution_count": 9,
   "metadata": {},
   "outputs": [
    {
     "data": {
      "text/plain": [
       "mwclient.page.Page"
      ]
     },
     "execution_count": 9,
     "metadata": {},
     "output_type": "execute_result"
    }
   ],
   "source": [
    "type(page)"
   ]
  },
  {
   "cell_type": "markdown",
   "metadata": {},
   "source": [
    "We can use the Python built-in function `dir` to find out what properties or methods we can call on this object:"
   ]
  },
  {
   "cell_type": "code",
   "execution_count": 10,
   "metadata": {},
   "outputs": [
    {
     "name": "stdout",
     "output_type": "stream",
     "text": [
      "['__class__', '__delattr__', '__dict__', '__dir__', '__doc__', '__eq__', '__format__', '__ge__', '__getattribute__', '__getstate__', '__gt__', '__hash__', '__init__', '__init_subclass__', '__le__', '__lt__', '__module__', '__ne__', '__new__', '__reduce__', '__reduce_ex__', '__repr__', '__setattr__', '__sizeof__', '__str__', '__subclasshook__', '__unicode__', '__weakref__', '_edit', '_info', '_textcache', 'append', 'backlinks', 'base_name', 'base_title', 'can', 'categories', 'contentmodel', 'delete', 'edit', 'edit_time', 'embeddedin', 'exists', 'extlinks', 'get_token', 'handle_edit_error', 'images', 'iwlinks', 'langlinks', 'last_rev_time', 'length', 'links', 'move', 'name', 'namespace', 'normalize_title', 'page_title', 'pageid', 'pagelanguage', 'prepend', 'protection', 'purge', 'redirect', 'redirects_to', 'resolve_redirect', 'restrictiontypes', 'revision', 'revisions', 'save', 'site', 'strip_namespace', 'templates', 'text', 'touch', 'touched']\n"
     ]
    }
   ],
   "source": [
    "onePage = links[10]\n",
    "print(dir(onePage))"
   ]
  },
  {
   "cell_type": "markdown",
   "metadata": {},
   "source": [
    "Let's try out some of the properties:"
   ]
  },
  {
   "cell_type": "code",
   "execution_count": 11,
   "metadata": {},
   "outputs": [
    {
     "data": {
      "text/plain": [
       "5075"
      ]
     },
     "execution_count": 11,
     "metadata": {},
     "output_type": "execute_result"
    }
   ],
   "source": [
    "# length of page in characters\n",
    "onePage.length"
   ]
  },
  {
   "cell_type": "code",
   "execution_count": 12,
   "metadata": {},
   "outputs": [
    {
     "data": {
      "text/plain": [
       "'Elizabeth Wellesley, Duchess of Wellington'"
      ]
     },
     "execution_count": 12,
     "metadata": {},
     "output_type": "execute_result"
    }
   ],
   "source": [
    "# name of the page\n",
    "onePage.name"
   ]
  },
  {
   "cell_type": "code",
   "execution_count": 13,
   "metadata": {},
   "outputs": [
    {
     "data": {
      "text/plain": [
       "time.struct_time(tm_year=2024, tm_mon=5, tm_mday=3, tm_hour=20, tm_min=12, tm_sec=12, tm_wday=4, tm_yday=124, tm_isdst=-1)"
      ]
     },
     "execution_count": 13,
     "metadata": {},
     "output_type": "execute_result"
    }
   ],
   "source": [
    "# timestamp of when the page was changed the last time\n",
    "onePage.touched"
   ]
  },
  {
   "cell_type": "markdown",
   "metadata": {},
   "source": [
    "**Note:** Notice the type `time.struct_time` that is used to represent time in Wikipedia. Recall that you learned about the `time` library in Week 3 tasks."
   ]
  },
  {
   "cell_type": "markdown",
   "metadata": {},
   "source": [
    "<a id=\"sec3\"></a>"
   ]
  },
  {
   "cell_type": "markdown",
   "metadata": {},
   "source": [
    "## 3. The Wellesley College page\n",
    "\n",
    "Let's get the Wellesley College page and look at its properties. Instead of searching for \"Wellesley\", let's search for \"Wellesley College\":"
   ]
  },
  {
   "cell_type": "code",
   "execution_count": 14,
   "metadata": {},
   "outputs": [
    {
     "data": {
      "text/plain": [
       "'Wellesley College'"
      ]
     },
     "execution_count": 14,
     "metadata": {},
     "output_type": "execute_result"
    }
   ],
   "source": [
    "wcp = site.pages['Wellesley College']\n",
    "wcp.name"
   ]
  },
  {
   "cell_type": "markdown",
   "metadata": {},
   "source": [
    "Is it a protected page? Meaning, can anyone edit it, or are there some restrictions in place? In Wikipedia, some pages are protected to prevent vandalism."
   ]
  },
  {
   "cell_type": "code",
   "execution_count": 15,
   "metadata": {},
   "outputs": [
    {
     "data": {
      "text/plain": [
       "{}"
      ]
     },
     "execution_count": 15,
     "metadata": {},
     "output_type": "execute_result"
    }
   ],
   "source": [
    "wcp.protection"
   ]
  },
  {
   "cell_type": "markdown",
   "metadata": {},
   "source": [
    "No, it's not. But, we can easily find a page that is protected:"
   ]
  },
  {
   "cell_type": "code",
   "execution_count": 16,
   "metadata": {},
   "outputs": [
    {
     "data": {
      "text/plain": [
       "'Hillary Clinton'"
      ]
     },
     "execution_count": 16,
     "metadata": {},
     "output_type": "execute_result"
    }
   ],
   "source": [
    "hcp = site.pages['Hillary Clinton']\n",
    "hcp.name"
   ]
  },
  {
   "cell_type": "code",
   "execution_count": 17,
   "metadata": {},
   "outputs": [
    {
     "data": {
      "text/plain": [
       "{'edit': ('autoconfirmed', 'infinity'), 'move': ('sysop', 'infinity')}"
      ]
     },
     "execution_count": 17,
     "metadata": {},
     "output_type": "execute_result"
    }
   ],
   "source": [
    "hcp.protection"
   ]
  },
  {
   "cell_type": "markdown",
   "metadata": {},
   "source": [
    "Notice that the result this time looks different from that of the Wellesley page. For example, only **autoconfirmed** users can edit the page. You can learn more about levels of user access on Wikipedia [in this page](https://en.wikipedia.org/wiki/Wikipedia:User_access_levels)."
   ]
  },
  {
   "cell_type": "markdown",
   "metadata": {},
   "source": [
    "When it was the last time that Wellesley's page was edited?"
   ]
  },
  {
   "cell_type": "code",
   "execution_count": 18,
   "metadata": {},
   "outputs": [
    {
     "data": {
      "text/plain": [
       "time.struct_time(tm_year=2024, tm_mon=5, tm_mday=7, tm_hour=10, tm_min=15, tm_sec=1, tm_wday=1, tm_yday=128, tm_isdst=-1)"
      ]
     },
     "execution_count": 18,
     "metadata": {},
     "output_type": "execute_result"
    }
   ],
   "source": [
    "wcp.touched # last time it was edited"
   ]
  },
  {
   "cell_type": "markdown",
   "metadata": {},
   "source": [
    "What is the length of the page in characters?"
   ]
  },
  {
   "cell_type": "code",
   "execution_count": 19,
   "metadata": {},
   "outputs": [
    {
     "data": {
      "text/plain": [
       "71335"
      ]
     },
     "execution_count": 19,
     "metadata": {},
     "output_type": "execute_result"
    }
   ],
   "source": [
    "wcp.length # length of page in characters"
   ]
  },
  {
   "cell_type": "markdown",
   "metadata": {},
   "source": [
    "Get external links from this page (links that go outside Wikipedia):"
   ]
  },
  {
   "cell_type": "code",
   "execution_count": 20,
   "metadata": {},
   "outputs": [
    {
     "data": {
      "text/plain": [
       "188"
      ]
     },
     "execution_count": 20,
     "metadata": {},
     "output_type": "execute_result"
    }
   ],
   "source": [
    "extlinks = [el for el in wcp.extlinks()]\n",
    "len(extlinks)"
   ]
  },
  {
   "cell_type": "code",
   "execution_count": 21,
   "metadata": {},
   "outputs": [
    {
     "data": {
      "text/plain": [
       "['http://www.wellesley.edu/sfs/UnderstandingFinAid.html',\n",
       " 'http://www.wellesley.edu/PublicAffairs/Releases/2009/042509.html',\n",
       " 'http://www.wellesley.edu/Welcome/Traditions/hooprolling.html',\n",
       " 'http://www.wellesley.edu/Welcome/HistoricalMaps/maps_main.html',\n",
       " 'http://new.wellesley.edu/admission/esp/nontraditional',\n",
       " 'http://www.wellesleyblue.com/',\n",
       " 'http://www.wellesley.edu/PublicAffairs/About/briefhistory.html',\n",
       " 'http://www.travelandleisure.com/articles/americas-most-beautiful-college-campuses/23',\n",
       " 'http://chronicle.com/free/v52/i38/38a04001.htm',\n",
       " 'http://www.virtualvermont.com/history/hgreen.html']"
      ]
     },
     "execution_count": 21,
     "metadata": {},
     "output_type": "execute_result"
    }
   ],
   "source": [
    "extlinks[:10]"
   ]
  },
  {
   "cell_type": "markdown",
   "metadata": {},
   "source": [
    "Find all Wikipedia pages that link to Wellesley College, these are known as **backlinks**:"
   ]
  },
  {
   "cell_type": "code",
   "execution_count": 22,
   "metadata": {},
   "outputs": [
    {
     "data": {
      "text/plain": [
       "2632"
      ]
     },
     "execution_count": 22,
     "metadata": {},
     "output_type": "execute_result"
    }
   ],
   "source": [
    "backlinks = [el for el in wcp.backlinks()]\n",
    "len(backlinks)"
   ]
  },
  {
   "cell_type": "markdown",
   "metadata": {},
   "source": [
    "That is a lot of backlinks that point to the Wellesley College page from other Wikipedia pages!"
   ]
  },
  {
   "cell_type": "code",
   "execution_count": 23,
   "metadata": {},
   "outputs": [
    {
     "data": {
      "text/plain": [
       "[<Page object 'b'America the Beautiful'' for <Site object 'en.wikipedia.org/w/'>>,\n",
       " <Page object 'b'Basketball'' for <Site object 'en.wikipedia.org/w/'>>,\n",
       " <Page object 'b'Brown University'' for <Site object 'en.wikipedia.org/w/'>>,\n",
       " <Page object 'b'Barnard College'' for <Site object 'en.wikipedia.org/w/'>>,\n",
       " <Page object 'b'California Institute of Technology'' for <Site object 'en.wikipedia.org/w/'>>,\n",
       " <Page object 'b'Columbia University'' for <Site object 'en.wikipedia.org/w/'>>,\n",
       " <Page object 'b'Colonna family'' for <Site object 'en.wikipedia.org/w/'>>,\n",
       " <Page object 'b'City University of New York'' for <Site object 'en.wikipedia.org/w/'>>,\n",
       " <Page object 'b'Dartmouth College'' for <Site object 'en.wikipedia.org/w/'>>,\n",
       " <Page object 'b'Grinnell College'' for <Site object 'en.wikipedia.org/w/'>>]"
      ]
     },
     "execution_count": 23,
     "metadata": {},
     "output_type": "execute_result"
    }
   ],
   "source": [
    "backlinks[:10]"
   ]
  },
  {
   "cell_type": "markdown",
   "metadata": {},
   "source": [
    "Finally, look at the links from this page to other Wikipedia pages:"
   ]
  },
  {
   "cell_type": "code",
   "execution_count": 24,
   "metadata": {},
   "outputs": [
    {
     "data": {
      "text/plain": [
       "1021"
      ]
     },
     "execution_count": 24,
     "metadata": {},
     "output_type": "execute_result"
    }
   ],
   "source": [
    "links = [el for el in wcp.links()]\n",
    "len(links)"
   ]
  },
  {
   "cell_type": "code",
   "execution_count": 25,
   "metadata": {},
   "outputs": [
    {
     "data": {
      "text/plain": [
       "[<Page object 'b'Judy Atterbury'' for <Site object 'en.wikipedia.org/w/'>>,\n",
       " <Image object 'b'File:Wellesley college panorama-red.jpg'' for <Site object 'en.wikipedia.org/w/'>>,\n",
       " <Page object 'b'ACT (test)'' for <Site object 'en.wikipedia.org/w/'>>,\n",
       " <Page object 'b'Ada Howard'' for <Site object 'en.wikipedia.org/w/'>>,\n",
       " <Page object 'b'Adaline Emerson Thompson'' for <Site object 'en.wikipedia.org/w/'>>,\n",
       " <Page object 'b'Adrian Piper'' for <Site object 'en.wikipedia.org/w/'>>,\n",
       " <Page object 'b'Agnes Scott College'' for <Site object 'en.wikipedia.org/w/'>>,\n",
       " <Page object 'b'Alan Schechter'' for <Site object 'en.wikipedia.org/w/'>>,\n",
       " <Page object 'b'Albion College'' for <Site object 'en.wikipedia.org/w/'>>,\n",
       " <Page object 'b'Albright College'' for <Site object 'en.wikipedia.org/w/'>>]"
      ]
     },
     "execution_count": 25,
     "metadata": {},
     "output_type": "execute_result"
    }
   ],
   "source": [
    "links[:10]"
   ]
  },
  {
   "cell_type": "markdown",
   "metadata": {},
   "source": [
    "We can say that more pages link to Wellesley College than vice-versa.\n",
    "\n",
    "**IMPORTANT:** The links to other pages are useful to find things that are related. Even better are reciprocal links: pages that point to each-other."
   ]
  },
  {
   "cell_type": "markdown",
   "metadata": {},
   "source": [
    "<a id=\"sec4\"></a>\n",
    "## 4. Exploring the Wellesley page revisions\n",
    "\n",
    "We can see that the object `page` has two properties, `revision` and `revisions`, let's look at them:"
   ]
  },
  {
   "cell_type": "code",
   "execution_count": 26,
   "metadata": {},
   "outputs": [
    {
     "data": {
      "text/plain": [
       "1222684612"
      ]
     },
     "execution_count": 26,
     "metadata": {},
     "output_type": "execute_result"
    }
   ],
   "source": [
    "wcp.revision"
   ]
  },
  {
   "cell_type": "code",
   "execution_count": 27,
   "metadata": {},
   "outputs": [
    {
     "data": {
      "text/plain": [
       "<bound method Page.revisions of <Page object 'b'Wellesley College'' for <Site object 'en.wikipedia.org/w/'>>>"
      ]
     },
     "execution_count": 27,
     "metadata": {},
     "output_type": "execute_result"
    }
   ],
   "source": [
    "wcp.revisions"
   ]
  },
  {
   "cell_type": "markdown",
   "metadata": {},
   "source": [
    "The message shows that `revisions` is a method, not a property, we'll need parens to access it:"
   ]
  },
  {
   "cell_type": "code",
   "execution_count": 28,
   "metadata": {},
   "outputs": [
    {
     "data": {
      "text/plain": [
       "<List object 'revisions' for <Site object 'en.wikipedia.org/w/'>>"
      ]
     },
     "execution_count": 28,
     "metadata": {},
     "output_type": "execute_result"
    }
   ],
   "source": [
    "wcp.revisions()"
   ]
  },
  {
   "cell_type": "markdown",
   "metadata": {},
   "source": [
    "We can see the pattern now, most functions return **lazy objects**, because the user might not be interested in everything.  \n",
    "\n",
    "**Get all revisions:** We can get all revisions we want by looping through the list iterator. This might take a few seconds."
   ]
  },
  {
   "cell_type": "code",
   "execution_count": 29,
   "metadata": {},
   "outputs": [
    {
     "data": {
      "text/plain": [
       "2287"
      ]
     },
     "execution_count": 29,
     "metadata": {},
     "output_type": "execute_result"
    }
   ],
   "source": [
    "revisions = [rev for rev in wcp.revisions()]\n",
    "len(revisions)"
   ]
  },
  {
   "cell_type": "code",
   "execution_count": 30,
   "metadata": {},
   "outputs": [
    {
     "data": {
      "text/plain": [
       "[OrderedDict([('revid', 1222684612),\n",
       "              ('parentid', 1222451585),\n",
       "              ('user', '2600:100E:B070:43E0:4116:EB00:C123:26BC'),\n",
       "              ('anon', ''),\n",
       "              ('timestamp',\n",
       "               time.struct_time(tm_year=2024, tm_mon=5, tm_mday=7, tm_hour=10, tm_min=15, tm_sec=1, tm_wday=1, tm_yday=128, tm_isdst=-1)),\n",
       "              ('comment', '/* Notable alumnae */')]),\n",
       " OrderedDict([('revid', 1222451585),\n",
       "              ('parentid', 1222451429),\n",
       "              ('user', '173.77.203.132'),\n",
       "              ('anon', ''),\n",
       "              ('timestamp',\n",
       "               time.struct_time(tm_year=2024, tm_mon=5, tm_mday=6, tm_hour=1, tm_min=8, tm_sec=41, tm_wday=0, tm_yday=127, tm_isdst=-1)),\n",
       "              ('comment', '/* Athletics */')]),\n",
       " OrderedDict([('revid', 1222451429),\n",
       "              ('parentid', 1222451297),\n",
       "              ('user', '173.77.203.132'),\n",
       "              ('anon', ''),\n",
       "              ('timestamp',\n",
       "               time.struct_time(tm_year=2024, tm_mon=5, tm_mday=6, tm_hour=1, tm_min=6, tm_sec=36, tm_wday=0, tm_yday=127, tm_isdst=-1)),\n",
       "              ('comment', '/* Athletics */')])]"
      ]
     },
     "execution_count": 30,
     "metadata": {},
     "output_type": "execute_result"
    }
   ],
   "source": [
    "revisions[:3]"
   ]
  },
  {
   "cell_type": "markdown",
   "metadata": {},
   "source": [
    "### 4.a Find users in revisions\n",
    "\n",
    "Each revision is stored as a Python dictionary, so we can easily extract the users:"
   ]
  },
  {
   "cell_type": "code",
   "execution_count": 31,
   "metadata": {},
   "outputs": [],
   "source": [
    "users = [rev['user'] for rev in revisions]"
   ]
  },
  {
   "cell_type": "markdown",
   "metadata": {},
   "source": [
    "We'll use `Counter` to create a dict of users with their counts and then print these users based on the number of edits, with the most common edits at the top:"
   ]
  },
  {
   "cell_type": "code",
   "execution_count": 32,
   "metadata": {},
   "outputs": [
    {
     "data": {
      "text/plain": [
       "[('Contributor321', 66),\n",
       " ('ElKevbo', 59),\n",
       " ('Interestingstuffadder', 46),\n",
       " ('Classicfilms', 27),\n",
       " ('Catamorphism', 25),\n",
       " ('Cellmesellme', 20),\n",
       " ('Rjensen', 19),\n",
       " ('Vadalium92', 18),\n",
       " ('RegentsPark', 17),\n",
       " ('GuardianH', 17)]"
      ]
     },
     "execution_count": 32,
     "metadata": {},
     "output_type": "execute_result"
    }
   ],
   "source": [
    "from collections import Counter\n",
    "\n",
    "usersDct = Counter(users)\n",
    "usersDct.most_common(10)"
   ]
  },
  {
   "cell_type": "markdown",
   "metadata": {},
   "source": [
    "**Note:** When I taught this class in 2017, CS 234 students edited the Wellesley College page on Wikipedia. \n",
    "\n",
    "\n",
    "Let's check the count of edits for some of CS 234 editors of the page:"
   ]
  },
  {
   "cell_type": "code",
   "execution_count": 33,
   "metadata": {},
   "outputs": [
    {
     "data": {
      "text/plain": [
       "3"
      ]
     },
     "execution_count": 33,
     "metadata": {},
     "output_type": "execute_result"
    }
   ],
   "source": [
    "usersDct['Imanh19']"
   ]
  },
  {
   "cell_type": "code",
   "execution_count": 34,
   "metadata": {},
   "outputs": [
    {
     "data": {
      "text/plain": [
       "6"
      ]
     },
     "execution_count": 34,
     "metadata": {},
     "output_type": "execute_result"
    }
   ],
   "source": [
    "usersDct['Angelinahli']"
   ]
  },
  {
   "cell_type": "markdown",
   "metadata": {},
   "source": [
    "How many unique users have edited this page?"
   ]
  },
  {
   "cell_type": "code",
   "execution_count": 35,
   "metadata": {},
   "outputs": [
    {
     "name": "stdout",
     "output_type": "stream",
     "text": [
      "1186 unique users have edited 2287 times the Wellesley College Wikipedia page.\n"
     ]
    }
   ],
   "source": [
    "print(f\"{len(usersDct)} unique users have edited {len(revisions)} times the {wcp.name} Wikipedia page.\")"
   ]
  },
  {
   "cell_type": "markdown",
   "metadata": {},
   "source": [
    "### 4.b Working with timestamps\n",
    "\n",
    "Each revision contains a timestamp. Let's convert that to a datetime object to make it easier to work with it.  \n",
    "**NOTE:** To make sense of this part, you need to have completed the notebook on working with date & time objects in Week 3 tasks."
   ]
  },
  {
   "cell_type": "code",
   "execution_count": 36,
   "metadata": {},
   "outputs": [
    {
     "data": {
      "text/plain": [
       "time.struct_time(tm_year=2024, tm_mon=5, tm_mday=7, tm_hour=10, tm_min=15, tm_sec=1, tm_wday=1, tm_yday=128, tm_isdst=-1)"
      ]
     },
     "execution_count": 36,
     "metadata": {},
     "output_type": "execute_result"
    }
   ],
   "source": [
    "ts = revisions[0]['timestamp']\n",
    "ts"
   ]
  },
  {
   "cell_type": "code",
   "execution_count": 37,
   "metadata": {},
   "outputs": [
    {
     "data": {
      "text/plain": [
       "time.struct_time"
      ]
     },
     "execution_count": 37,
     "metadata": {},
     "output_type": "execute_result"
    }
   ],
   "source": [
    "type(ts)"
   ]
  },
  {
   "cell_type": "markdown",
   "metadata": {},
   "source": [
    "The following modules will work together to make the conversion from `timestruct` to `datetime`:"
   ]
  },
  {
   "cell_type": "code",
   "execution_count": 38,
   "metadata": {},
   "outputs": [
    {
     "data": {
      "text/plain": [
       "datetime.datetime(2024, 5, 7, 10, 15, 1)"
      ]
     },
     "execution_count": 38,
     "metadata": {},
     "output_type": "execute_result"
    }
   ],
   "source": [
    "from time import mktime\n",
    "from datetime import datetime\n",
    "\n",
    "# turn an object from type struct_time to datetime\n",
    "datetime.fromtimestamp(mktime(ts))"
   ]
  },
  {
   "cell_type": "markdown",
   "metadata": {},
   "source": [
    "Now that we have a datetime object, we can do many things:\n",
    "\n",
    "1. group number of revisions by day\n",
    "2. group number of revisions by month or year\n",
    "3. group revisions by user revisions per day"
   ]
  },
  {
   "cell_type": "markdown",
   "metadata": {},
   "source": [
    "A reminder that a datetime object has properties to access values such as year and month:"
   ]
  },
  {
   "cell_type": "code",
   "execution_count": 39,
   "metadata": {},
   "outputs": [
    {
     "name": "stdout",
     "output_type": "stream",
     "text": [
      "2024\n",
      "5\n",
      "7\n"
     ]
    }
   ],
   "source": [
    "dt = datetime.fromtimestamp(mktime(ts))\n",
    "print(dt.year)\n",
    "print(dt.month)\n",
    "print(dt.day)"
   ]
  },
  {
   "cell_type": "markdown",
   "metadata": {},
   "source": [
    "As well as a useful method to return only the date (without the time portion):"
   ]
  },
  {
   "cell_type": "code",
   "execution_count": 40,
   "metadata": {},
   "outputs": [
    {
     "name": "stdout",
     "output_type": "stream",
     "text": [
      "2024-05-07\n"
     ]
    }
   ],
   "source": [
    "print(dt.date())"
   ]
  },
  {
   "cell_type": "markdown",
   "metadata": {},
   "source": [
    "This is especially useful in the succeeding example."
   ]
  },
  {
   "cell_type": "markdown",
   "metadata": {},
   "source": [
    "**Example: What was the day with most revisions?**\n",
    "\n",
    "First, we convert all timestamps into string dates, just because it is easier to store them than datetime objects."
   ]
  },
  {
   "cell_type": "code",
   "execution_count": 41,
   "metadata": {},
   "outputs": [
    {
     "data": {
      "text/plain": [
       "['2024-05-07',\n",
       " '2024-05-06',\n",
       " '2024-05-06',\n",
       " '2024-05-06',\n",
       " '2024-05-06',\n",
       " '2024-04-24',\n",
       " '2024-04-21',\n",
       " '2024-04-17',\n",
       " '2024-04-17',\n",
       " '2024-04-16']"
      ]
     },
     "execution_count": 41,
     "metadata": {},
     "output_type": "execute_result"
    }
   ],
   "source": [
    "def createDateTime(timestamp):\n",
    "    \"\"\"convert a timestruct to datetime\"\"\"\n",
    "    return datetime.fromtimestamp(mktime(timestamp))\n",
    "\n",
    "dates = [str(createDateTime(rev['timestamp']).date()) for rev in revisions]\n",
    "\n",
    "# what does str(createDateTime(rev['timestamp']).date()) do?\n",
    "# 1. it call the function createDateTime with each revision's timestamp object\n",
    "# 2. then it applies the method date() on the returned datetime object, to get a date object\n",
    "# 3. it converts the date object into a string\n",
    "\n",
    "dates[:10]"
   ]
  },
  {
   "cell_type": "markdown",
   "metadata": {},
   "source": [
    "**Find days with most edits**\n",
    "\n",
    "We can do this in the same way we found the users with most edits, using the `Counter` constructor:"
   ]
  },
  {
   "cell_type": "code",
   "execution_count": 42,
   "metadata": {},
   "outputs": [
    {
     "data": {
      "text/plain": [
       "[('2023-11-14', 19),\n",
       " ('2008-07-10', 16),\n",
       " ('2008-07-23', 14),\n",
       " ('2006-08-09', 14),\n",
       " ('2017-09-29', 13),\n",
       " ('2010-06-29', 13),\n",
       " ('2009-04-05', 13),\n",
       " ('2020-06-24', 12),\n",
       " ('2014-07-08', 12),\n",
       " ('2012-07-16', 12)]"
      ]
     },
     "execution_count": 42,
     "metadata": {},
     "output_type": "execute_result"
    }
   ],
   "source": [
    "datesDct = Counter(dates)\n",
    "datesDct.most_common(10)"
   ]
  },
  {
   "cell_type": "markdown",
   "metadata": {},
   "source": [
    "<a id='sec5'></a>\n",
    "## 5. Tasks for you\n",
    "\n",
    "In this task you will accomplish the following goals:\n",
    "\n",
    "* Get the revisions of the Wiki page on [Dobbs v. Jackson Women's Health Organization](https://en.wikipedia.org/wiki/Dobbs_v._Jackson_Women%27s_Health_Organization), in a similar way as you got the revisions for the Wellesley College page.\n",
    "* Find the number of revisions contributed by each user. Create a dataframe that contains two columns: username and revision count.\n",
    "* Study the first plot in [this Plotly page](https://plotly.com/python/ecdf-plots/), known as the empirical cummulative distribution function plot and create one for the revision count column.\n",
    "* Interpret the plot: What is the eCDF plot telling us about users and Wikipedia revisions? If you have never encountered eCDF, read the [Wiki page](https://en.wikipedia.org/wiki/Empirical_distribution_function) and check out how eCDF looks like for a normal distribution.\n",
    "* Open the file `mcgowan_timestamps.json` in your folder to study its structure. It's basically a list of lists, each of them with two items: name of the editor and timestamp of their revision. Then create a similar JSON file, titled `dobbsVJaksonRevisions.json`, to use in the TimeSeries task. It should contain only the usernames and the timestamps (as datetime strings) of their revisions."
   ]
  },
  {
   "cell_type": "code",
   "execution_count": 43,
   "metadata": {},
   "outputs": [],
   "source": [
    "dobbs_page = site.pages[\"Dobbs v. Jackson Women's Health Organization\"]\n",
    "dobbs_revisions = [rev for rev in dobbs_page.revisions()]\n"
   ]
  },
  {
   "cell_type": "code",
   "execution_count": 44,
   "metadata": {},
   "outputs": [],
   "source": [
    "dobbs_users = [rev['user'] for rev in dobbs_revisions]\n",
    "dobbs_users_count = Counter(dobbs_users)\n"
   ]
  },
  {
   "cell_type": "code",
   "execution_count": 45,
   "metadata": {},
   "outputs": [],
   "source": [
    "# Create a DataFrame\n",
    "import pandas as pd\n",
    "dobbs_df = pd.DataFrame(dobbs_users_count.items(), columns=['username', 'revision_count'])"
   ]
  },
  {
   "cell_type": "code",
   "execution_count": 46,
   "metadata": {},
   "outputs": [
    {
     "data": {
      "text/html": [
       "<div>\n",
       "<style scoped>\n",
       "    .dataframe tbody tr th:only-of-type {\n",
       "        vertical-align: middle;\n",
       "    }\n",
       "\n",
       "    .dataframe tbody tr th {\n",
       "        vertical-align: top;\n",
       "    }\n",
       "\n",
       "    .dataframe thead th {\n",
       "        text-align: right;\n",
       "    }\n",
       "</style>\n",
       "<table border=\"1\" class=\"dataframe\">\n",
       "  <thead>\n",
       "    <tr style=\"text-align: right;\">\n",
       "      <th></th>\n",
       "      <th>username</th>\n",
       "      <th>revision_count</th>\n",
       "    </tr>\n",
       "  </thead>\n",
       "  <tbody>\n",
       "    <tr>\n",
       "      <th>0</th>\n",
       "      <td>K1ausMouse</td>\n",
       "      <td>1</td>\n",
       "    </tr>\n",
       "    <tr>\n",
       "      <th>1</th>\n",
       "      <td>Hinnk</td>\n",
       "      <td>1</td>\n",
       "    </tr>\n",
       "    <tr>\n",
       "      <th>2</th>\n",
       "      <td>SilverLocust</td>\n",
       "      <td>12</td>\n",
       "    </tr>\n",
       "    <tr>\n",
       "      <th>3</th>\n",
       "      <td>Citation bot</td>\n",
       "      <td>44</td>\n",
       "    </tr>\n",
       "    <tr>\n",
       "      <th>4</th>\n",
       "      <td>AlsoWukai</td>\n",
       "      <td>117</td>\n",
       "    </tr>\n",
       "  </tbody>\n",
       "</table>\n",
       "</div>"
      ],
      "text/plain": [
       "       username  revision_count\n",
       "0    K1ausMouse               1\n",
       "1         Hinnk               1\n",
       "2  SilverLocust              12\n",
       "3  Citation bot              44\n",
       "4     AlsoWukai             117"
      ]
     },
     "execution_count": 46,
     "metadata": {},
     "output_type": "execute_result"
    }
   ],
   "source": [
    "dobbs_df.head()\n"
   ]
  },
  {
   "cell_type": "code",
   "execution_count": null,
   "metadata": {},
   "outputs": [],
   "source": [
    "#create emprical dist "
   ]
  },
  {
   "cell_type": "code",
   "execution_count": null,
   "metadata": {},
   "outputs": [],
   "source": [
    "import json\n",
    "\n",
    "\n",
    "\n",
    "# Write to JSON file\n",
    "with open('dobbsVJaksonRevisions.json', 'w') as f:\n",
    "    json.dump(dobbs_revisions_json, f)\n"
   ]
  }
 ],
 "metadata": {
  "kernelspec": {
   "display_name": "Python 3 (ipykernel)",
   "language": "python",
   "name": "python3"
  },
  "language_info": {
   "codemirror_mode": {
    "name": "ipython",
    "version": 3
   },
   "file_extension": ".py",
   "mimetype": "text/x-python",
   "name": "python",
   "nbconvert_exporter": "python",
   "pygments_lexer": "ipython3",
   "version": "3.11.3"
  }
 },
 "nbformat": 4,
 "nbformat_minor": 1
}
