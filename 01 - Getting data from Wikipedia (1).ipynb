{
 "cells": [
  {
   "cell_type": "markdown",
   "metadata": {},
   "source": [
    "# Getting Data from Wikipedia\n",
    " \n",
    "This short notebook shows how to work with the **mwclient** library to exlore the content of Wikipedia pages. It's an example of a API wrapper, that facilitates working with the underlying API, the [MediaWikiAPI](https://www.mediawiki.org/wiki/API:Main_page).\n",
    "\n",
    "Once you learn how to use the library, you will complete a task that collects revisions for a particular Wikipedia page to be used later.\n",
    "\n",
    "**Table of Content**\n",
    "1. [Installing the `mwclient` module](#sec1)\n",
    "2. [Connecting to a site and working with pages](#sec2)\n",
    "3. [The Wellesley College page](#sec3)\n",
    "4. [Exploring Wellesley's Wiki page revisions](#sec4)\n",
    "5. **[Tasks for you: Dobbs v. Jackson](#sec5)**"
   ]
  },
  {
   "cell_type": "markdown",
   "metadata": {},
   "source": [
    "## 1. Installing the `mwclient` module\n",
    "\n",
    "In this notebook I've used the module [mwclient](http://mwclient.readthedocs.io/en/latest/index.html). The name stands for \"Media Wiki Client\". It's a library to access the Wikipedia pages through Python.\n",
    "\n",
    "Since this is your first time using this library, you have to install it first.  \n",
    "**Note:** Older notebook versions might require the use of the exclamation mark symbol before `pip`."
   ]
  },
  {
   "cell_type": "code",
   "execution_count": 1,
   "metadata": {},
   "outputs": [
    {
     "name": "stdout",
     "output_type": "stream",
     "text": [
      "Collecting mwclient\n",
      "  Downloading mwclient-0.10.1-py2.py3-none-any.whl (27 kB)\n",
      "Collecting requests-oauthlib (from mwclient)\n",
      "  Downloading requests_oauthlib-2.0.0-py2.py3-none-any.whl (24 kB)\n",
      "Requirement already satisfied: six in /Users/naima.abdirahman/anaconda3/lib/python3.11/site-packages (from mwclient) (1.16.0)\n",
      "Collecting oauthlib>=3.0.0 (from requests-oauthlib->mwclient)\n",
      "  Downloading oauthlib-3.2.2-py3-none-any.whl (151 kB)\n",
      "\u001b[2K     \u001b[90m━━━━━━━━━━━━━━━━━━━━━━━━━━━━━━━━━━━━━━━\u001b[0m \u001b[32m151.7/151.7 kB\u001b[0m \u001b[31m8.2 MB/s\u001b[0m eta \u001b[36m0:00:00\u001b[0m\n",
      "\u001b[?25hRequirement already satisfied: requests>=2.0.0 in /Users/naima.abdirahman/anaconda3/lib/python3.11/site-packages (from requests-oauthlib->mwclient) (2.29.0)\n",
      "Requirement already satisfied: charset-normalizer<4,>=2 in /Users/naima.abdirahman/anaconda3/lib/python3.11/site-packages (from requests>=2.0.0->requests-oauthlib->mwclient) (2.0.4)\n",
      "Requirement already satisfied: idna<4,>=2.5 in /Users/naima.abdirahman/anaconda3/lib/python3.11/site-packages (from requests>=2.0.0->requests-oauthlib->mwclient) (3.4)\n",
      "Requirement already satisfied: urllib3<1.27,>=1.21.1 in /Users/naima.abdirahman/anaconda3/lib/python3.11/site-packages (from requests>=2.0.0->requests-oauthlib->mwclient) (1.26.16)\n",
      "Requirement already satisfied: certifi>=2017.4.17 in /Users/naima.abdirahman/anaconda3/lib/python3.11/site-packages (from requests>=2.0.0->requests-oauthlib->mwclient) (2023.5.7)\n",
      "Installing collected packages: oauthlib, requests-oauthlib, mwclient\n",
      "Successfully installed mwclient-0.10.1 oauthlib-3.2.2 requests-oauthlib-2.0.0\n",
      "Note: you may need to restart the kernel to use updated packages.\n"
     ]
    }
   ],
   "source": [
    "pip install mwclient"
   ]
  },
  {
   "cell_type": "code",
   "execution_count": 2,
   "metadata": {},
   "outputs": [],
   "source": [
    "# check if module is installed\n",
    "import mwclient"
   ]
  },
  {
   "cell_type": "markdown",
   "metadata": {},
   "source": [
    "<a id=\"sec2\"></a>"
   ]
  },
  {
   "cell_type": "markdown",
   "metadata": {},
   "source": [
    "## 2. Connecting to a wiki site and getting pages\n",
    "\n",
    "There are many wiki websites that are accessed by MediaWikiAPI. We need to provide the URL of the one we will work with, in our case the English Wikipedia."
   ]
  },
  {
   "cell_type": "code",
   "execution_count": 3,
   "metadata": {},
   "outputs": [],
   "source": [
    "from mwclient import Site\n",
    "site = Site('en.wikipedia.org')"
   ]
  },
  {
   "cell_type": "markdown",
   "metadata": {},
   "source": [
    "It's possible to search for pages based on a simple query term, given that we will search within the `site`:"
   ]
  },
  {
   "cell_type": "code",
   "execution_count": 4,
   "metadata": {},
   "outputs": [
    {
     "data": {
      "text/plain": [
       "<Page object 'b'Wellesley'' for <Site object 'en.wikipedia.org/w/'>>"
      ]
     },
     "execution_count": 4,
     "metadata": {},
     "output_type": "execute_result"
    }
   ],
   "source": [
    "page = site.pages['Wellesley']\n",
    "page"
   ]
  },
  {
   "cell_type": "markdown",
   "metadata": {},
   "source": [
    "And we can read the text of the page, which in this case appears to be a disambiguation page with links to many pages that contain the word \"Wellesley\":"
   ]
  },
  {
   "cell_type": "code",
   "execution_count": 5,
   "metadata": {},
   "outputs": [
    {
     "data": {
      "text/plain": [
       "\"'''Wellesley''' may refer to:\\n{{TOC right}}\\n\\n* \\n\\n== People ==\\n===Dukes of Wellington===\\n* [[Arthur Wellesley, 1st Duke of Wellington]] (1769–1852), British soldier, statesman, and Prime Minister of the United Kingdom\\n* [[Arthur Wellesley, 2nd Duke of Wellington]] (1807–1884), British politician\\n* [[Henry Wellesley, 3rd Duke of Wellington]] (1846–1900), British soldier and politician\\n* [[Arthur Wellesley, 4th Duke of Wellington]] (1849–1934), British soldier\\n* [[Arthur Wellesley, 5th Duke of Wellington]] (1876–1941), British soldier\\n* [[Henry Wellesley, 6th Duke of Wellington]] (1912–1943), British soldier\\n* [[Gerald Wellesley, 7th Duke of Wellington]] (1885–1972), British soldier and diplomat\\n* [[Valerian Wellesley, 8th Duke of Wellington]] (1915–2014), British soldier\\n* [[Charles Wellesley, 9th Duke of Wellington]] (born 1945), British politician and businessman\\n\\n==Barons Cowley (1828)==\\n* [[Henry Wellesley, 1st Baron Cowley]] (1773–1847)\\n* [[Henry Wellesley, 1st Earl Cowley|Henry Richard Charles Wellesley, 2nd Baron Cowley]] (1804–1884) (created '''Earl Cowley''' in 1857)\\n\\n==Earls Cowley (1857)==\\n* [[Henry Wellesley, 1st Earl Cowley|Henry Richard Charles Wellesley, 1st Earl Cowley]] (1804–1884)\\n* [[William Wellesley, 2nd Earl Cowley|William Henry Wellesley, 2nd Earl Cowley]] (1834–1895)\\n* [[Henry Arthur Mornington Wellesley, 3rd Earl Cowley]] (1866–1919)\\n* [[Christian Arthur Wellesley, 4th Earl Cowley]] (1890–1962)\\n* [[Denis Wellesley, 5th Earl Cowley|Denis Arthur Wellesley, 5th Earl Cowley]] (1921–1968)\\n* [[Richard Wellesley, 6th Earl Cowley|Richard Francis Wellesley, 6th Earl Cowley]] (1946–1975)\\n* [[Garret Wellesley, 7th Earl Cowley|Garret Graham Wellesley, 7th Earl Cowley]] (1934–2016)\\n* Garret [[Graham Wellesley, 8th Earl Cowley]] (born 30 March 1965), styled Viscount Dangan from 1975 to 2016\\n\\nThe [[heir apparent]] is the present holder's son Henry Arthur Peter Wellesley, Viscount Dangan (b. 1991).\\n\\n===Others, including relatives of Dukes===\\n* [[Arthur Wellesley, Marquess of Douro]] (born 1978), British businessman\\n* [[Lord Charles Wellesley]] (1808–1858), British politician\\n* [[Charles Wellesley]] (1873–1946), American actor\\n* [[Lady Charlotte Wellesley]] (born 1990), British producer and socialite\\n* [[Elizabeth Wellesley, Duchess of Wellington]] (1820–1904), Mistress of the Robes\\n* [[Lady Elizabeth Wellesley]] (1918–2013), British socialite\\n* [[Lord George Wellesley]] (1889–1967), British soldier\\n* [[Gerald Valerian Wellesley (born 1770)|Gerald Valerian Wellesley]] (1770–1848), Irish clergyman\\n* [[Lady Jane Wellesley]] (born 1951), British writer and television producer\\n* [[Richard Wellesley, 1st Marquess Wellesley]] (1760–1842), Irish peer, statesman, and Governor-General of India\\n* [[Walter Wellesley]] (c. 1470–1539), prior of Great Connell priory and bishop of Kildare\\n\\n== Places and institutions ==\\n\\n=== Australia ===\\n\\n* [[Wellesley, Queensland]], a locality in the Maranoa Region\\n\\n* [[Wellesley Islands]], an island group in the Gulf of Carpentaria, Queensland, and locality in the Shire of Mornington\\n**[[South Wellesley Islands]], an island group in the Gulf of Carpentaria, Queensland, and locality in the Shire of Mornington\\n**[[West Wellesley Islands]], an island group in the Gulf of Carpentaria, Queensland, and locality in the Shire of Mornington\\n\\n=== Canada ===\\n\\n* [[Wellesley, Ontario]], Canada, a township\\n* [[Wellesley (TTC)]], a subway station in Toronto, Ontario\\n\\n=== Malaysia ===\\n\\n* [[Province Wellesley]], Penang, Malaysia, known in Malay as Seberang Prai\\n\\n=== New Zealand ===\\n\\n* [[Wellesley College, New Zealand]], private boys-only independent primary school in New Zealand\\n\\n=== United States ===\\n\\n*[[Wellesley, Massachusetts]], United States\\n**[[Wellesley College]], private women's liberal arts college in Wellesley, Massachusetts\\n**[[Wellesley High School]], public high school in Wellesley, Massachusetts\\n\\n== Ships ==\\n\\n*[[HMS Wellesley|HMS ''Wellesley'']], name of two Royal Navy ships\\n\\n==Other uses==\\n\\n*[[Wellesley & Co.]], Founded in November 2013, Wellesley provides asset-backed loans secured on residential property.\\n* The [[Vickers Wellesley]], 1930s single-engine medium bomber of the Royal Air Force\\n* Wellesley marriage, defunct term for (not necessarily sexual) same-sex cohabitation, see [[Boston marriage]]\\n\\n{{disambiguation|geo|surname}}\""
      ]
     },
     "execution_count": 5,
     "metadata": {},
     "output_type": "execute_result"
    }
   ],
   "source": [
    "page.text()"
   ]
  },
  {
   "cell_type": "markdown",
   "metadata": {},
   "source": [
    "### 2.a What else does a page contain?\n",
    "\n",
    "Let's looks at some properties that the page contains:"
   ]
  },
  {
   "cell_type": "markdown",
   "metadata": {},
   "source": [
    "**Categories:** Most pages in Wikipedia are assigned categories, which we can access:"
   ]
  },
  {
   "cell_type": "code",
   "execution_count": 6,
   "metadata": {},
   "outputs": [
    {
     "name": "stdout",
     "output_type": "stream",
     "text": [
      "<Category object 'b'Category:All article disambiguation pages'' for <Site object 'en.wikipedia.org/w/'>>\n",
      "<Category object 'b'Category:All disambiguation pages'' for <Site object 'en.wikipedia.org/w/'>>\n",
      "<Category object 'b'Category:Disambiguation pages'' for <Site object 'en.wikipedia.org/w/'>>\n",
      "<Category object 'b'Category:Disambiguation pages with surname-holder lists'' for <Site object 'en.wikipedia.org/w/'>>\n",
      "<Category object 'b'Category:Place name disambiguation pages'' for <Site object 'en.wikipedia.org/w/'>>\n",
      "<Category object 'b'Category:Short description is different from Wikidata'' for <Site object 'en.wikipedia.org/w/'>>\n"
     ]
    }
   ],
   "source": [
    "for cat in page.categories():\n",
    "    print(cat)"
   ]
  },
  {
   "cell_type": "markdown",
   "metadata": {},
   "source": [
    "**Links:** A page has many links to other Wikipedia pages, we can access them too:"
   ]
  },
  {
   "cell_type": "code",
   "execution_count": 7,
   "metadata": {},
   "outputs": [
    {
     "data": {
      "text/plain": [
       "[<Page object 'b'Denis Wellesley, 5th Earl Cowley'' for <Site object 'en.wikipedia.org/w/'>>,\n",
       " <Page object 'b'Arthur Wellesley, 1st Duke of Wellington'' for <Site object 'en.wikipedia.org/w/'>>,\n",
       " <Page object 'b'Arthur Wellesley, 2nd Duke of Wellington'' for <Site object 'en.wikipedia.org/w/'>>,\n",
       " <Page object 'b'Arthur Wellesley, 4th Duke of Wellington'' for <Site object 'en.wikipedia.org/w/'>>,\n",
       " <Page object 'b'Arthur Wellesley, 5th Duke of Wellington'' for <Site object 'en.wikipedia.org/w/'>>]"
      ]
     },
     "execution_count": 7,
     "metadata": {},
     "output_type": "execute_result"
    }
   ],
   "source": [
    "links = [l for l in page.links()]\n",
    "links[:5]"
   ]
  },
  {
   "cell_type": "markdown",
   "metadata": {},
   "source": [
    "**IMPORTANT - Lazy behavior:** Simply calling the method `links` on the page object will not give us the list of links:"
   ]
  },
  {
   "cell_type": "code",
   "execution_count": 8,
   "metadata": {},
   "outputs": [
    {
     "data": {
      "text/plain": [
       "<List object 'links' for <Site object 'en.wikipedia.org/w/'>>"
      ]
     },
     "execution_count": 8,
     "metadata": {},
     "output_type": "execute_result"
    }
   ],
   "source": [
    "page.links()"
   ]
  },
  {
   "cell_type": "markdown",
   "metadata": {},
   "source": [
    "We need to iterate over this object to get the links, which themselves are objects pointing to the pages."
   ]
  },
  {
   "cell_type": "markdown",
   "metadata": {},
   "source": [
    "### 2.b What's in a page object?\n",
    "\n",
    "As we saw above, each link shows up as a page object in the list of links. This is because these are all Wikipedia articles. Let's verify again that each page is an object:"
   ]
  },
  {
   "cell_type": "code",
   "execution_count": 9,
   "metadata": {},
   "outputs": [
    {
     "data": {
      "text/plain": [
       "mwclient.page.Page"
      ]
     },
     "execution_count": 9,
     "metadata": {},
     "output_type": "execute_result"
    }
   ],
   "source": [
    "type(page)"
   ]
  },
  {
   "cell_type": "markdown",
   "metadata": {},
   "source": [
    "We can use the Python built-in function `dir` to find out what properties or methods we can call on this object:"
   ]
  },
  {
   "cell_type": "code",
   "execution_count": 10,
   "metadata": {},
   "outputs": [
    {
     "name": "stdout",
     "output_type": "stream",
     "text": [
      "['__class__', '__delattr__', '__dict__', '__dir__', '__doc__', '__eq__', '__format__', '__ge__', '__getattribute__', '__getstate__', '__gt__', '__hash__', '__init__', '__init_subclass__', '__le__', '__lt__', '__module__', '__ne__', '__new__', '__reduce__', '__reduce_ex__', '__repr__', '__setattr__', '__sizeof__', '__str__', '__subclasshook__', '__unicode__', '__weakref__', '_edit', '_info', '_textcache', 'append', 'backlinks', 'base_name', 'base_title', 'can', 'categories', 'contentmodel', 'delete', 'edit', 'edit_time', 'embeddedin', 'exists', 'extlinks', 'get_token', 'handle_edit_error', 'images', 'iwlinks', 'langlinks', 'last_rev_time', 'length', 'links', 'move', 'name', 'namespace', 'normalize_title', 'page_title', 'pageid', 'pagelanguage', 'prepend', 'protection', 'purge', 'redirect', 'redirects_to', 'resolve_redirect', 'restrictiontypes', 'revision', 'revisions', 'save', 'site', 'strip_namespace', 'templates', 'text', 'touch', 'touched']\n"
     ]
    }
   ],
   "source": [
    "onePage = links[10]\n",
    "print(dir(onePage))"
   ]
  },
  {
   "cell_type": "markdown",
   "metadata": {},
   "source": [
    "Let's try out some of the properties:"
   ]
  },
  {
   "cell_type": "code",
   "execution_count": 11,
   "metadata": {},
   "outputs": [
    {
     "data": {
      "text/plain": [
       "5075"
      ]
     },
     "execution_count": 11,
     "metadata": {},
     "output_type": "execute_result"
    }
   ],
   "source": [
    "# length of page in characters\n",
    "onePage.length"
   ]
  },
  {
   "cell_type": "code",
   "execution_count": 12,
   "metadata": {},
   "outputs": [
    {
     "data": {
      "text/plain": [
       "'Elizabeth Wellesley, Duchess of Wellington'"
      ]
     },
     "execution_count": 12,
     "metadata": {},
     "output_type": "execute_result"
    }
   ],
   "source": [
    "# name of the page\n",
    "onePage.name"
   ]
  },
  {
   "cell_type": "code",
   "execution_count": 13,
   "metadata": {},
   "outputs": [
    {
     "data": {
      "text/plain": [
       "time.struct_time(tm_year=2024, tm_mon=5, tm_mday=3, tm_hour=20, tm_min=12, tm_sec=12, tm_wday=4, tm_yday=124, tm_isdst=-1)"
      ]
     },
     "execution_count": 13,
     "metadata": {},
     "output_type": "execute_result"
    }
   ],
   "source": [
    "# timestamp of when the page was changed the last time\n",
    "onePage.touched"
   ]
  },
  {
   "cell_type": "markdown",
   "metadata": {},
   "source": [
    "**Note:** Notice the type `time.struct_time` that is used to represent time in Wikipedia. Recall that you learned about the `time` library in Week 3 tasks."
   ]
  },
  {
   "cell_type": "markdown",
   "metadata": {},
   "source": [
    "<a id=\"sec3\"></a>"
   ]
  },
  {
   "cell_type": "markdown",
   "metadata": {},
   "source": [
    "## 3. The Wellesley College page\n",
    "\n",
    "Let's get the Wellesley College page and look at its properties. Instead of searching for \"Wellesley\", let's search for \"Wellesley College\":"
   ]
  },
  {
   "cell_type": "code",
   "execution_count": 14,
   "metadata": {},
   "outputs": [
    {
     "data": {
      "text/plain": [
       "'Wellesley College'"
      ]
     },
     "execution_count": 14,
     "metadata": {},
     "output_type": "execute_result"
    }
   ],
   "source": [
    "wcp = site.pages['Wellesley College']\n",
    "wcp.name"
   ]
  },
  {
   "cell_type": "markdown",
   "metadata": {},
   "source": [
    "Is it a protected page? Meaning, can anyone edit it, or are there some restrictions in place? In Wikipedia, some pages are protected to prevent vandalism."
   ]
  },
  {
   "cell_type": "code",
   "execution_count": 15,
   "metadata": {},
   "outputs": [
    {
     "data": {
      "text/plain": [
       "{}"
      ]
     },
     "execution_count": 15,
     "metadata": {},
     "output_type": "execute_result"
    }
   ],
   "source": [
    "wcp.protection"
   ]
  },
  {
   "cell_type": "markdown",
   "metadata": {},
   "source": [
    "No, it's not. But, we can easily find a page that is protected:"
   ]
  },
  {
   "cell_type": "code",
   "execution_count": 16,
   "metadata": {},
   "outputs": [
    {
     "data": {
      "text/plain": [
       "'Hillary Clinton'"
      ]
     },
     "execution_count": 16,
     "metadata": {},
     "output_type": "execute_result"
    }
   ],
   "source": [
    "hcp = site.pages['Hillary Clinton']\n",
    "hcp.name"
   ]
  },
  {
   "cell_type": "code",
   "execution_count": 17,
   "metadata": {},
   "outputs": [
    {
     "data": {
      "text/plain": [
       "{'edit': ('autoconfirmed', 'infinity'), 'move': ('sysop', 'infinity')}"
      ]
     },
     "execution_count": 17,
     "metadata": {},
     "output_type": "execute_result"
    }
   ],
   "source": [
    "hcp.protection"
   ]
  },
  {
   "cell_type": "markdown",
   "metadata": {},
   "source": [
    "Notice that the result this time looks different from that of the Wellesley page. For example, only **autoconfirmed** users can edit the page. You can learn more about levels of user access on Wikipedia [in this page](https://en.wikipedia.org/wiki/Wikipedia:User_access_levels)."
   ]
  },
  {
   "cell_type": "markdown",
   "metadata": {},
   "source": [
    "When it was the last time that Wellesley's page was edited?"
   ]
  },
  {
   "cell_type": "code",
   "execution_count": 18,
   "metadata": {},
   "outputs": [
    {
     "data": {
      "text/plain": [
       "time.struct_time(tm_year=2024, tm_mon=5, tm_mday=7, tm_hour=10, tm_min=15, tm_sec=1, tm_wday=1, tm_yday=128, tm_isdst=-1)"
      ]
     },
     "execution_count": 18,
     "metadata": {},
     "output_type": "execute_result"
    }
   ],
   "source": [
    "wcp.touched # last time it was edited"
   ]
  },
  {
   "cell_type": "markdown",
   "metadata": {},
   "source": [
    "What is the length of the page in characters?"
   ]
  },
  {
   "cell_type": "code",
   "execution_count": 19,
   "metadata": {},
   "outputs": [
    {
     "data": {
      "text/plain": [
       "71335"
      ]
     },
     "execution_count": 19,
     "metadata": {},
     "output_type": "execute_result"
    }
   ],
   "source": [
    "wcp.length # length of page in characters"
   ]
  },
  {
   "cell_type": "markdown",
   "metadata": {},
   "source": [
    "Get external links from this page (links that go outside Wikipedia):"
   ]
  },
  {
   "cell_type": "code",
   "execution_count": 20,
   "metadata": {},
   "outputs": [
    {
     "data": {
      "text/plain": [
       "188"
      ]
     },
     "execution_count": 20,
     "metadata": {},
     "output_type": "execute_result"
    }
   ],
   "source": [
    "extlinks = [el for el in wcp.extlinks()]\n",
    "len(extlinks)"
   ]
  },
  {
   "cell_type": "code",
   "execution_count": 21,
   "metadata": {},
   "outputs": [
    {
     "data": {
      "text/plain": [
       "['http://www.wellesley.edu/sfs/UnderstandingFinAid.html',\n",
       " 'http://www.wellesley.edu/PublicAffairs/Releases/2009/042509.html',\n",
       " 'http://www.wellesley.edu/Welcome/Traditions/hooprolling.html',\n",
       " 'http://www.wellesley.edu/Welcome/HistoricalMaps/maps_main.html',\n",
       " 'http://new.wellesley.edu/admission/esp/nontraditional',\n",
       " 'http://www.wellesleyblue.com/',\n",
       " 'http://www.wellesley.edu/PublicAffairs/About/briefhistory.html',\n",
       " 'http://www.travelandleisure.com/articles/americas-most-beautiful-college-campuses/23',\n",
       " 'http://chronicle.com/free/v52/i38/38a04001.htm',\n",
       " 'http://www.virtualvermont.com/history/hgreen.html']"
      ]
     },
     "execution_count": 21,
     "metadata": {},
     "output_type": "execute_result"
    }
   ],
   "source": [
    "extlinks[:10]"
   ]
  },
  {
   "cell_type": "markdown",
   "metadata": {},
   "source": [
    "Find all Wikipedia pages that link to Wellesley College, these are known as **backlinks**:"
   ]
  },
  {
   "cell_type": "code",
   "execution_count": 22,
   "metadata": {},
   "outputs": [
    {
     "data": {
      "text/plain": [
       "2632"
      ]
     },
     "execution_count": 22,
     "metadata": {},
     "output_type": "execute_result"
    }
   ],
   "source": [
    "backlinks = [el for el in wcp.backlinks()]\n",
    "len(backlinks)"
   ]
  },
  {
   "cell_type": "markdown",
   "metadata": {},
   "source": [
    "That is a lot of backlinks that point to the Wellesley College page from other Wikipedia pages!"
   ]
  },
  {
   "cell_type": "code",
   "execution_count": 23,
   "metadata": {},
   "outputs": [
    {
     "data": {
      "text/plain": [
       "[<Page object 'b'America the Beautiful'' for <Site object 'en.wikipedia.org/w/'>>,\n",
       " <Page object 'b'Basketball'' for <Site object 'en.wikipedia.org/w/'>>,\n",
       " <Page object 'b'Brown University'' for <Site object 'en.wikipedia.org/w/'>>,\n",
       " <Page object 'b'Barnard College'' for <Site object 'en.wikipedia.org/w/'>>,\n",
       " <Page object 'b'California Institute of Technology'' for <Site object 'en.wikipedia.org/w/'>>,\n",
       " <Page object 'b'Columbia University'' for <Site object 'en.wikipedia.org/w/'>>,\n",
       " <Page object 'b'Colonna family'' for <Site object 'en.wikipedia.org/w/'>>,\n",
       " <Page object 'b'City University of New York'' for <Site object 'en.wikipedia.org/w/'>>,\n",
       " <Page object 'b'Dartmouth College'' for <Site object 'en.wikipedia.org/w/'>>,\n",
       " <Page object 'b'Grinnell College'' for <Site object 'en.wikipedia.org/w/'>>]"
      ]
     },
     "execution_count": 23,
     "metadata": {},
     "output_type": "execute_result"
    }
   ],
   "source": [
    "backlinks[:10]"
   ]
  },
  {
   "cell_type": "markdown",
   "metadata": {},
   "source": [
    "Finally, look at the links from this page to other Wikipedia pages:"
   ]
  },
  {
   "cell_type": "code",
   "execution_count": 24,
   "metadata": {},
   "outputs": [
    {
     "data": {
      "text/plain": [
       "1021"
      ]
     },
     "execution_count": 24,
     "metadata": {},
     "output_type": "execute_result"
    }
   ],
   "source": [
    "links = [el for el in wcp.links()]\n",
    "len(links)"
   ]
  },
  {
   "cell_type": "code",
   "execution_count": 25,
   "metadata": {},
   "outputs": [
    {
     "data": {
      "text/plain": [
       "[<Page object 'b'Judy Atterbury'' for <Site object 'en.wikipedia.org/w/'>>,\n",
       " <Image object 'b'File:Wellesley college panorama-red.jpg'' for <Site object 'en.wikipedia.org/w/'>>,\n",
       " <Page object 'b'ACT (test)'' for <Site object 'en.wikipedia.org/w/'>>,\n",
       " <Page object 'b'Ada Howard'' for <Site object 'en.wikipedia.org/w/'>>,\n",
       " <Page object 'b'Adaline Emerson Thompson'' for <Site object 'en.wikipedia.org/w/'>>,\n",
       " <Page object 'b'Adrian Piper'' for <Site object 'en.wikipedia.org/w/'>>,\n",
       " <Page object 'b'Agnes Scott College'' for <Site object 'en.wikipedia.org/w/'>>,\n",
       " <Page object 'b'Alan Schechter'' for <Site object 'en.wikipedia.org/w/'>>,\n",
       " <Page object 'b'Albion College'' for <Site object 'en.wikipedia.org/w/'>>,\n",
       " <Page object 'b'Albright College'' for <Site object 'en.wikipedia.org/w/'>>]"
      ]
     },
     "execution_count": 25,
     "metadata": {},
     "output_type": "execute_result"
    }
   ],
   "source": [
    "links[:10]"
   ]
  },
  {
   "cell_type": "markdown",
   "metadata": {},
   "source": [
    "We can say that more pages link to Wellesley College than vice-versa.\n",
    "\n",
    "**IMPORTANT:** The links to other pages are useful to find things that are related. Even better are reciprocal links: pages that point to each-other."
   ]
  },
  {
   "cell_type": "markdown",
   "metadata": {},
   "source": [
    "<a id=\"sec4\"></a>\n",
    "## 4. Exploring the Wellesley page revisions\n",
    "\n",
    "We can see that the object `page` has two properties, `revision` and `revisions`, let's look at them:"
   ]
  },
  {
   "cell_type": "code",
   "execution_count": 26,
   "metadata": {},
   "outputs": [
    {
     "data": {
      "text/plain": [
       "1222684612"
      ]
     },
     "execution_count": 26,
     "metadata": {},
     "output_type": "execute_result"
    }
   ],
   "source": [
    "wcp.revision"
   ]
  },
  {
   "cell_type": "code",
   "execution_count": 27,
   "metadata": {},
   "outputs": [
    {
     "data": {
      "text/plain": [
       "<bound method Page.revisions of <Page object 'b'Wellesley College'' for <Site object 'en.wikipedia.org/w/'>>>"
      ]
     },
     "execution_count": 27,
     "metadata": {},
     "output_type": "execute_result"
    }
   ],
   "source": [
    "wcp.revisions"
   ]
  },
  {
   "cell_type": "markdown",
   "metadata": {},
   "source": [
    "The message shows that `revisions` is a method, not a property, we'll need parens to access it:"
   ]
  },
  {
   "cell_type": "code",
   "execution_count": 28,
   "metadata": {},
   "outputs": [
    {
     "data": {
      "text/plain": [
       "<List object 'revisions' for <Site object 'en.wikipedia.org/w/'>>"
      ]
     },
     "execution_count": 28,
     "metadata": {},
     "output_type": "execute_result"
    }
   ],
   "source": [
    "wcp.revisions()"
   ]
  },
  {
   "cell_type": "markdown",
   "metadata": {},
   "source": [
    "We can see the pattern now, most functions return **lazy objects**, because the user might not be interested in everything.  \n",
    "\n",
    "**Get all revisions:** We can get all revisions we want by looping through the list iterator. This might take a few seconds."
   ]
  },
  {
   "cell_type": "code",
   "execution_count": 29,
   "metadata": {},
   "outputs": [
    {
     "data": {
      "text/plain": [
       "2287"
      ]
     },
     "execution_count": 29,
     "metadata": {},
     "output_type": "execute_result"
    }
   ],
   "source": [
    "revisions = [rev for rev in wcp.revisions()]\n",
    "len(revisions)"
   ]
  },
  {
   "cell_type": "code",
   "execution_count": 30,
   "metadata": {},
   "outputs": [
    {
     "data": {
      "text/plain": [
       "[OrderedDict([('revid', 1222684612),\n",
       "              ('parentid', 1222451585),\n",
       "              ('user', '2600:100E:B070:43E0:4116:EB00:C123:26BC'),\n",
       "              ('anon', ''),\n",
       "              ('timestamp',\n",
       "               time.struct_time(tm_year=2024, tm_mon=5, tm_mday=7, tm_hour=10, tm_min=15, tm_sec=1, tm_wday=1, tm_yday=128, tm_isdst=-1)),\n",
       "              ('comment', '/* Notable alumnae */')]),\n",
       " OrderedDict([('revid', 1222451585),\n",
       "              ('parentid', 1222451429),\n",
       "              ('user', '173.77.203.132'),\n",
       "              ('anon', ''),\n",
       "              ('timestamp',\n",
       "               time.struct_time(tm_year=2024, tm_mon=5, tm_mday=6, tm_hour=1, tm_min=8, tm_sec=41, tm_wday=0, tm_yday=127, tm_isdst=-1)),\n",
       "              ('comment', '/* Athletics */')]),\n",
       " OrderedDict([('revid', 1222451429),\n",
       "              ('parentid', 1222451297),\n",
       "              ('user', '173.77.203.132'),\n",
       "              ('anon', ''),\n",
       "              ('timestamp',\n",
       "               time.struct_time(tm_year=2024, tm_mon=5, tm_mday=6, tm_hour=1, tm_min=6, tm_sec=36, tm_wday=0, tm_yday=127, tm_isdst=-1)),\n",
       "              ('comment', '/* Athletics */')])]"
      ]
     },
     "execution_count": 30,
     "metadata": {},
     "output_type": "execute_result"
    }
   ],
   "source": [
    "revisions[:3]"
   ]
  },
  {
   "cell_type": "markdown",
   "metadata": {},
   "source": [
    "### 4.a Find users in revisions\n",
    "\n",
    "Each revision is stored as a Python dictionary, so we can easily extract the users:"
   ]
  },
  {
   "cell_type": "code",
   "execution_count": 31,
   "metadata": {},
   "outputs": [],
   "source": [
    "users = [rev['user'] for rev in revisions]"
   ]
  },
  {
   "cell_type": "markdown",
   "metadata": {},
   "source": [
    "We'll use `Counter` to create a dict of users with their counts and then print these users based on the number of edits, with the most common edits at the top:"
   ]
  },
  {
   "cell_type": "code",
   "execution_count": 32,
   "metadata": {},
   "outputs": [
    {
     "data": {
      "text/plain": [
       "[('Contributor321', 66),\n",
       " ('ElKevbo', 59),\n",
       " ('Interestingstuffadder', 46),\n",
       " ('Classicfilms', 27),\n",
       " ('Catamorphism', 25),\n",
       " ('Cellmesellme', 20),\n",
       " ('Rjensen', 19),\n",
       " ('Vadalium92', 18),\n",
       " ('RegentsPark', 17),\n",
       " ('GuardianH', 17)]"
      ]
     },
     "execution_count": 32,
     "metadata": {},
     "output_type": "execute_result"
    }
   ],
   "source": [
    "from collections import Counter\n",
    "\n",
    "usersDct = Counter(users)\n",
    "usersDct.most_common(10)"
   ]
  },
  {
   "cell_type": "markdown",
   "metadata": {},
   "source": [
    "**Note:** When I taught this class in 2017, CS 234 students edited the Wellesley College page on Wikipedia. \n",
    "\n",
    "\n",
    "Let's check the count of edits for some of CS 234 editors of the page:"
   ]
  },
  {
   "cell_type": "code",
   "execution_count": 33,
   "metadata": {},
   "outputs": [
    {
     "data": {
      "text/plain": [
       "3"
      ]
     },
     "execution_count": 33,
     "metadata": {},
     "output_type": "execute_result"
    }
   ],
   "source": [
    "usersDct['Imanh19']"
   ]
  },
  {
   "cell_type": "code",
   "execution_count": 34,
   "metadata": {},
   "outputs": [
    {
     "data": {
      "text/plain": [
       "6"
      ]
     },
     "execution_count": 34,
     "metadata": {},
     "output_type": "execute_result"
    }
   ],
   "source": [
    "usersDct['Angelinahli']"
   ]
  },
  {
   "cell_type": "markdown",
   "metadata": {},
   "source": [
    "How many unique users have edited this page?"
   ]
  },
  {
   "cell_type": "code",
   "execution_count": 35,
   "metadata": {},
   "outputs": [
    {
     "name": "stdout",
     "output_type": "stream",
     "text": [
      "1186 unique users have edited 2287 times the Wellesley College Wikipedia page.\n"
     ]
    }
   ],
   "source": [
    "print(f\"{len(usersDct)} unique users have edited {len(revisions)} times the {wcp.name} Wikipedia page.\")"
   ]
  },
  {
   "cell_type": "markdown",
   "metadata": {},
   "source": [
    "### 4.b Working with timestamps\n",
    "\n",
    "Each revision contains a timestamp. Let's convert that to a datetime object to make it easier to work with it.  \n",
    "**NOTE:** To make sense of this part, you need to have completed the notebook on working with date & time objects in Week 3 tasks."
   ]
  },
  {
   "cell_type": "code",
   "execution_count": 36,
   "metadata": {},
   "outputs": [
    {
     "data": {
      "text/plain": [
       "time.struct_time(tm_year=2024, tm_mon=5, tm_mday=7, tm_hour=10, tm_min=15, tm_sec=1, tm_wday=1, tm_yday=128, tm_isdst=-1)"
      ]
     },
     "execution_count": 36,
     "metadata": {},
     "output_type": "execute_result"
    }
   ],
   "source": [
    "ts = revisions[0]['timestamp']\n",
    "ts"
   ]
  },
  {
   "cell_type": "code",
   "execution_count": 37,
   "metadata": {},
   "outputs": [
    {
     "data": {
      "text/plain": [
       "time.struct_time"
      ]
     },
     "execution_count": 37,
     "metadata": {},
     "output_type": "execute_result"
    }
   ],
   "source": [
    "type(ts)"
   ]
  },
  {
   "cell_type": "markdown",
   "metadata": {},
   "source": [
    "The following modules will work together to make the conversion from `timestruct` to `datetime`:"
   ]
  },
  {
   "cell_type": "code",
   "execution_count": 38,
   "metadata": {},
   "outputs": [
    {
     "data": {
      "text/plain": [
       "datetime.datetime(2024, 5, 7, 10, 15, 1)"
      ]
     },
     "execution_count": 38,
     "metadata": {},
     "output_type": "execute_result"
    }
   ],
   "source": [
    "from time import mktime\n",
    "from datetime import datetime\n",
    "\n",
    "# turn an object from type struct_time to datetime\n",
    "datetime.fromtimestamp(mktime(ts))"
   ]
  },
  {
   "cell_type": "markdown",
   "metadata": {},
   "source": [
    "Now that we have a datetime object, we can do many things:\n",
    "\n",
    "1. group number of revisions by day\n",
    "2. group number of revisions by month or year\n",
    "3. group revisions by user revisions per day"
   ]
  },
  {
   "cell_type": "markdown",
   "metadata": {},
   "source": [
    "A reminder that a datetime object has properties to access values such as year and month:"
   ]
  },
  {
   "cell_type": "code",
   "execution_count": 39,
   "metadata": {},
   "outputs": [
    {
     "name": "stdout",
     "output_type": "stream",
     "text": [
      "2024\n",
      "5\n",
      "7\n"
     ]
    }
   ],
   "source": [
    "dt = datetime.fromtimestamp(mktime(ts))\n",
    "print(dt.year)\n",
    "print(dt.month)\n",
    "print(dt.day)"
   ]
  },
  {
   "cell_type": "markdown",
   "metadata": {},
   "source": [
    "As well as a useful method to return only the date (without the time portion):"
   ]
  },
  {
   "cell_type": "code",
   "execution_count": 40,
   "metadata": {},
   "outputs": [
    {
     "name": "stdout",
     "output_type": "stream",
     "text": [
      "2024-05-07\n"
     ]
    }
   ],
   "source": [
    "print(dt.date())"
   ]
  },
  {
   "cell_type": "markdown",
   "metadata": {},
   "source": [
    "This is especially useful in the succeeding example."
   ]
  },
  {
   "cell_type": "markdown",
   "metadata": {},
   "source": [
    "**Example: What was the day with most revisions?**\n",
    "\n",
    "First, we convert all timestamps into string dates, just because it is easier to store them than datetime objects."
   ]
  },
  {
   "cell_type": "code",
   "execution_count": 41,
   "metadata": {},
   "outputs": [
    {
     "data": {
      "text/plain": [
       "['2024-05-07',\n",
       " '2024-05-06',\n",
       " '2024-05-06',\n",
       " '2024-05-06',\n",
       " '2024-05-06',\n",
       " '2024-04-24',\n",
       " '2024-04-21',\n",
       " '2024-04-17',\n",
       " '2024-04-17',\n",
       " '2024-04-16']"
      ]
     },
     "execution_count": 41,
     "metadata": {},
     "output_type": "execute_result"
    }
   ],
   "source": [
    "def createDateTime(timestamp):\n",
    "    \"\"\"convert a timestruct to datetime\"\"\"\n",
    "    return datetime.fromtimestamp(mktime(timestamp))\n",
    "\n",
    "dates = [str(createDateTime(rev['timestamp']).date()) for rev in revisions]\n",
    "\n",
    "# what does str(createDateTime(rev['timestamp']).date()) do?\n",
    "# 1. it call the function createDateTime with each revision's timestamp object\n",
    "# 2. then it applies the method date() on the returned datetime object, to get a date object\n",
    "# 3. it converts the date object into a string\n",
    "\n",
    "dates[:10]"
   ]
  },
  {
   "cell_type": "markdown",
   "metadata": {},
   "source": [
    "**Find days with most edits**\n",
    "\n",
    "We can do this in the same way we found the users with most edits, using the `Counter` constructor:"
   ]
  },
  {
   "cell_type": "code",
   "execution_count": 42,
   "metadata": {},
   "outputs": [
    {
     "data": {
      "text/plain": [
       "[('2023-11-14', 19),\n",
       " ('2008-07-10', 16),\n",
       " ('2008-07-23', 14),\n",
       " ('2006-08-09', 14),\n",
       " ('2017-09-29', 13),\n",
       " ('2010-06-29', 13),\n",
       " ('2009-04-05', 13),\n",
       " ('2020-06-24', 12),\n",
       " ('2014-07-08', 12),\n",
       " ('2012-07-16', 12)]"
      ]
     },
     "execution_count": 42,
     "metadata": {},
     "output_type": "execute_result"
    }
   ],
   "source": [
    "datesDct = Counter(dates)\n",
    "datesDct.most_common(10)"
   ]
  },
  {
   "cell_type": "markdown",
   "metadata": {},
   "source": [
    "<a id='sec5'></a>\n",
    "## 5. Tasks for you\n",
    "\n",
    "In this task you will accomplish the following goals:\n",
    "\n",
    "* Get the revisions of the Wiki page on [Dobbs v. Jackson Women's Health Organization](https://en.wikipedia.org/wiki/Dobbs_v._Jackson_Women%27s_Health_Organization), in a similar way as you got the revisions for the Wellesley College page.\n",
    "* Find the number of revisions contributed by each user. Create a dataframe that contains two columns: username and revision count.\n",
    "* Study the first plot in [this Plotly page](https://plotly.com/python/ecdf-plots/), known as the empirical cummulative distribution function plot and create one for the revision count column.\n",
    "* Interpret the plot: What is the eCDF plot telling us about users and Wikipedia revisions? If you have never encountered eCDF, read the [Wiki page](https://en.wikipedia.org/wiki/Empirical_distribution_function) and check out how eCDF looks like for a normal distribution.\n",
    "* Open the file `mcgowan_timestamps.json` in your folder to study its structure. It's basically a list of lists, each of them with two items: name of the editor and timestamp of their revision. Then create a similar JSON file, titled `dobbsVJaksonRevisions.json`, to use in the TimeSeries task. It should contain only the usernames and the timestamps (as datetime strings) of their revisions."
   ]
  },
  {
   "cell_type": "code",
   "execution_count": 43,
   "metadata": {},
   "outputs": [],
   "source": [
    "dobbs_page = site.pages[\"Dobbs v. Jackson Women's Health Organization\"]\n",
    "dobbs_revisions = [rev for rev in dobbs_page.revisions()]\n"
   ]
  },
  {
   "cell_type": "code",
   "execution_count": 44,
   "metadata": {},
   "outputs": [],
   "source": [
    "dobbs_users = [rev['user'] for rev in dobbs_revisions]\n",
    "dobbs_users_count = Counter(dobbs_users)\n"
   ]
  },
  {
   "cell_type": "code",
   "execution_count": 45,
   "metadata": {},
   "outputs": [],
   "source": [
    "# Create a DataFrame\n",
    "import pandas as pd\n",
    "dobbs_df = pd.DataFrame(dobbs_users_count.items(), columns=['username', 'revision_count'])"
   ]
  },
  {
   "cell_type": "code",
   "execution_count": 46,
   "metadata": {},
   "outputs": [
    {
     "data": {
      "text/html": [
       "<div>\n",
       "<style scoped>\n",
       "    .dataframe tbody tr th:only-of-type {\n",
       "        vertical-align: middle;\n",
       "    }\n",
       "\n",
       "    .dataframe tbody tr th {\n",
       "        vertical-align: top;\n",
       "    }\n",
       "\n",
       "    .dataframe thead th {\n",
       "        text-align: right;\n",
       "    }\n",
       "</style>\n",
       "<table border=\"1\" class=\"dataframe\">\n",
       "  <thead>\n",
       "    <tr style=\"text-align: right;\">\n",
       "      <th></th>\n",
       "      <th>username</th>\n",
       "      <th>revision_count</th>\n",
       "    </tr>\n",
       "  </thead>\n",
       "  <tbody>\n",
       "    <tr>\n",
       "      <th>0</th>\n",
       "      <td>K1ausMouse</td>\n",
       "      <td>1</td>\n",
       "    </tr>\n",
       "    <tr>\n",
       "      <th>1</th>\n",
       "      <td>Hinnk</td>\n",
       "      <td>1</td>\n",
       "    </tr>\n",
       "    <tr>\n",
       "      <th>2</th>\n",
       "      <td>SilverLocust</td>\n",
       "      <td>12</td>\n",
       "    </tr>\n",
       "    <tr>\n",
       "      <th>3</th>\n",
       "      <td>Citation bot</td>\n",
       "      <td>44</td>\n",
       "    </tr>\n",
       "    <tr>\n",
       "      <th>4</th>\n",
       "      <td>AlsoWukai</td>\n",
       "      <td>117</td>\n",
       "    </tr>\n",
       "  </tbody>\n",
       "</table>\n",
       "</div>"
      ],
      "text/plain": [
       "       username  revision_count\n",
       "0    K1ausMouse               1\n",
       "1         Hinnk               1\n",
       "2  SilverLocust              12\n",
       "3  Citation bot              44\n",
       "4     AlsoWukai             117"
      ]
     },
     "execution_count": 46,
     "metadata": {},
     "output_type": "execute_result"
    }
   ],
   "source": [
    "dobbs_df.head()\n"
   ]
  },
  {
   "cell_type": "code",
   "execution_count": 49,
   "metadata": {},
   "outputs": [
    {
     "name": "stdout",
     "output_type": "stream",
     "text": [
      "Requirement already satisfied: plotly in /Users/naima.abdirahman/anaconda3/lib/python3.11/site-packages (5.9.0)\n",
      "Collecting plotly\n",
      "  Downloading plotly-5.22.0-py3-none-any.whl (16.4 MB)\n",
      "\u001b[2K     \u001b[90m━━━━━━━━━━━━━━━━━━━━━━━━━━━━━━━━━━━━━━━━\u001b[0m \u001b[32m16.4/16.4 MB\u001b[0m \u001b[31m8.4 MB/s\u001b[0m eta \u001b[36m0:00:00\u001b[0m00:01\u001b[0m00:01\u001b[0mm\n",
      "\u001b[?25hRequirement already satisfied: tenacity>=6.2.0 in /Users/naima.abdirahman/anaconda3/lib/python3.11/site-packages (from plotly) (8.2.2)\n",
      "Requirement already satisfied: packaging in /Users/naima.abdirahman/anaconda3/lib/python3.11/site-packages (from plotly) (23.0)\n",
      "Installing collected packages: plotly\n",
      "  Attempting uninstall: plotly\n",
      "    Found existing installation: plotly 5.9.0\n",
      "    Uninstalling plotly-5.9.0:\n",
      "      Successfully uninstalled plotly-5.9.0\n",
      "Successfully installed plotly-5.22.0\n",
      "Note: you may need to restart the kernel to use updated packages.\n"
     ]
    }
   ],
   "source": [
    "pip install --upgrade plotly"
   ]
  },
  {
   "cell_type": "code",
   "execution_count": 51,
   "metadata": {},
   "outputs": [
    {
     "name": "stderr",
     "output_type": "stream",
     "text": [
      "/Users/naima.abdirahman/anaconda3/lib/python3.11/site-packages/pandas/core/dtypes/cast.py:1641: DeprecationWarning:\n",
      "\n",
      "np.find_common_type is deprecated.  Please use `np.result_type` or `np.promote_types`.\n",
      "See https://numpy.org/devdocs/release/1.25.0-notes.html and the docs for more information.  (Deprecated NumPy 1.25)\n",
      "\n",
      "/Users/naima.abdirahman/anaconda3/lib/python3.11/site-packages/plotly/io/_renderers.py:395: DeprecationWarning:\n",
      "\n",
      "distutils Version classes are deprecated. Use packaging.version instead.\n",
      "\n",
      "/Users/naima.abdirahman/anaconda3/lib/python3.11/site-packages/plotly/io/_renderers.py:395: DeprecationWarning:\n",
      "\n",
      "distutils Version classes are deprecated. Use packaging.version instead.\n",
      "\n"
     ]
    },
    {
     "data": {
      "application/vnd.plotly.v1+json": {
       "config": {
        "plotlyServerURL": "https://plot.ly"
       },
       "data": [
        {
         "alignmentgroup": "True",
         "hovertemplate": "username=%{x}<br>revision_count=%{y}<extra></extra>",
         "legendgroup": "",
         "marker": {
          "color": "#636efa",
          "pattern": {
           "shape": ""
          }
         },
         "name": "",
         "offsetgroup": "",
         "orientation": "v",
         "showlegend": false,
         "textposition": "auto",
         "type": "bar",
         "x": [
          "K1ausMouse",
          "Hinnk",
          "SilverLocust",
          "Citation bot",
          "AlsoWukai",
          "MusikBot II",
          "El C",
          "Masem",
          "Doomdorm64",
          "CanonNi",
          "Jacob David Dove Pottage",
          "PenguinEncounter2",
          "Username6892",
          "2600:1700:26F0:5000:A179:3F72:F541:8B2A",
          "MarkiPoli",
          "71.17.30.21",
          "KlayCax",
          "MrsKoma",
          "AnomieBOT",
          "PineappleFury",
          "Amberkitten",
          "Urnslenny",
          "Theleekycauldron",
          "SdkbBot",
          "155.186.180.170",
          "24.56.77.201",
          "Maxim Masiutin",
          "Cityplace2711",
          "Ben Azura",
          "TragicPower",
          "142.165.160.66",
          "Wuerzele",
          "Smarick",
          "50.237.13.60",
          "Xam2580",
          "90.63.45.83",
          "Sideswipe9th",
          "Egeymi",
          "Mako001",
          "174.79.52.108",
          "CarpCharacin",
          "Abed93",
          "David Gerard",
          "PrimeBOT",
          "3Kingdoms",
          "InternetArchiveBot",
          "DividedFrame",
          "Asherkobin",
          "Microglia145",
          "DanCherek",
          "2601:80:C67E:E200:E41B:4F98:663D:36A9",
          "OAbot",
          "Slovebz",
          "Harfarhs",
          "BenbowInn",
          "MicrobiologyMarcus",
          "WikiCleanerBot",
          "Vaughan Pratt",
          "208.58.209.186",
          "Goodtablemanners",
          "GreenC bot",
          "Dancingtudorqueen",
          "Rodw",
          "Scorpions1325",
          "203.211.79.215",
          "Andrevan",
          "69.84.57.190",
          "AdjustablePliers",
          "YourJudge",
          "Rhain",
          "ParanormalRat",
          "The C of E",
          "William M. Connolley",
          "Jacques Renaître",
          "Spaghetti335",
          "82.41.67.194",
          "InfoManiac297",
          "2600:6C5E:177F:8C04:E58A:D7C1:6B60:9ECB",
          "FMSky",
          "67.140.103.187",
          "Corgi Stays",
          "Anomalocaris",
          "Natg 19",
          "Volvlogia",
          "GuardianH",
          "2607:FB91:1714:10C4:3465:5EAB:79B6:5C90",
          "FederalistWordsmith",
          "Onel5969",
          "66.219.4.191",
          "2601:448:C380:E9A0:507:DC1B:2D5D:5EEF",
          "BD2412",
          "Thincat",
          "63.86.0.118",
          "Scorpions13256",
          "Parkwells",
          "46.31.102.31",
          "Evanbaldonado",
          "2600:1700:43CC:490:60D6:CC4C:9DC7:513C",
          "Treybien2",
          "Malerooster",
          "Losipov",
          "A. Randomdude0000",
          "2601:448:C380:E9A0:609B:1940:527B:E12",
          "ByVarying",
          "PedanticallySpeaking",
          "Pickle Mon",
          "Yakásimba",
          "Texan2920",
          "Nightscream",
          "Alanhuang122",
          "Snickers2686",
          "NathanBru",
          "Vgy7ujm",
          "Bneu2013",
          "Jasonkwe",
          "PoliticalWizard55",
          "2600:1700:12F0:2370:E004:4C4D:FDE4:F063",
          "93.107.189.229",
          "CopperyMarrow15",
          "Quaerens-veritatem",
          "2607:F2C0:EB86:9C:5190:4BD7:5A22:F931",
          "Apcynan",
          "206.204.236.108",
          "Neutrality",
          "122.62.139.6",
          "199.107.16.122",
          "General Ization",
          "108.5.14.221",
          "Volhosis",
          "2601:47:4B00:7A60:617A:F3BB:50B4:217C",
          "JesusIsLord444",
          "CmdrDan",
          "HeyElliott",
          "2600:1700:12F0:2370:74BF:C4D0:DDEC:13E8",
          "76.146.32.117",
          "2A02:AA1:1026:D6D4:3487:4994:ED22:A541",
          "Tondelleo Schwarzkopf",
          "Bee Eater007",
          "Tgeorgescu",
          "2600:8805:3E13:3E00:88B8:1D11:5046:A2A9",
          "Darklilac",
          "Clyde H. Mapping",
          "98.172.105.25",
          "2A00:20:400B:A4E6:C076:7DF1:C165:7FDE",
          "Sirkh1",
          "Minorax",
          "Emmairena",
          "86.124.125.129",
          "2600:4041:5285:1500:9818:FA7:6D5A:12A1",
          "Wiki000001",
          "24.45.239.163",
          "Numberguy6",
          "Politicsfan4",
          "SnoopyAndCharlieBrown202070",
          "SeeAlsoPolice",
          "Red Slash",
          "Ecangola",
          "Iamreallygoodatcheckers",
          "Coolperson177",
          "Davemck",
          "2001:448A:50E1:74A4:A059:8707:CAB:67BA",
          "Patar knight",
          "Goodone121",
          "Polmas",
          "Timrollpickering",
          "2601:183:4A80:E570:4C39:CE5C:87C4:7070",
          "2604:3D09:E17F:DFB0:7C90:A21C:E4CD:17A6",
          "Martindo",
          "Garrbailey",
          "TheXuitts",
          "EmmaCoop",
          "Revangarde568",
          "3mi1y",
          "Love of Corey",
          "Sdkb",
          "Toketaa",
          "205.155.234.129",
          "2605:8D80:445:963D:D0CA:4254:62F2:81F8",
          "BattyBot",
          "Endwise",
          "MagicatthemovieS",
          "2607:F470:6:3001:3062:4D62:D37E:F5F7",
          "Brainulator9",
          "Karma1998",
          "DraftSaturn15",
          "Phillip Samuel",
          "Aussiegirl 13",
          "GreenFrogsGoRibbit",
          "194.214.167.58",
          "Alkazar9999",
          "Bill Williams",
          "144.39.222.180",
          "38.34.60.136",
          "Adakiko",
          "88.155.103.36",
          "Duonaut",
          "207.70.160.108",
          "88.155.100.216",
          "2601:3C6:4201:4E0:0:0:0:DD99",
          "2601:183:102:2A10:488B:4EED:5A46:3438",
          "CASalt",
          "Beland",
          "Zzyzx11",
          "222.154.90.153",
          "Tricana8571uno",
          "Maxwhollymoralground",
          "Needforspeed888",
          "John Broughton",
          "TortillaDePapas",
          "BrownHairedGirl",
          "Kaltenmeyer",
          "Nerd271",
          "Genericusername57",
          "X-Editor",
          "2600:1700:1CD6:A7D0:911E:BE16:B228:DC3F",
          "JoePhin",
          "Closed Limelike Curves",
          "William Avery",
          "Equilibrial",
          "Leontrooper",
          "Aidan9382",
          "2601:243:1:17A0:345E:A499:81E0:1F6D",
          "50.235.12.38",
          "I dream of horses",
          "130.239.239.168",
          "Wikipedialuva",
          "177.11.236.144",
          "107.11.37.51",
          "50.92.146.90",
          "EvergreenFir",
          "Benda2016",
          "D wiki 54",
          "2603:3001:700:BC00:8CBF:FB5C:81B0:964E",
          "Anon423",
          "118.211.36.125",
          "AyaK",
          "Williamgregory213",
          "Kbabej",
          "JParksT2023",
          "Antiok 1pie",
          "Compassionate727",
          "Jmheer11",
          "PBZE",
          "69.131.174.49",
          "Royalistandlegitimist",
          "Sjö",
          "134.215.177.214",
          "Roxy the dog",
          "HMSLavender",
          "Hekerui",
          "FortUser",
          "MrOllie",
          "2600:1011:B002:E986:C452:9D51:6072:DB0E",
          "Refsjjehhgshh",
          "99.95.232.199",
          "Jade Ten",
          "LogStar100",
          "2603:3024:182E:6E00:4E6:9BA5:8A58:F2E6",
          "Nice Stories",
          "Dlambe3",
          "Tentemp",
          "Leaky.Solar",
          "Peter z Pienin",
          "2600:387:15:615:0:0:0:9",
          "99.197.202.188",
          "Ageofultron",
          "2600:6C48:427F:F84E:70E2:AD69:2D56:789C",
          "Therequiembellishere",
          "Adityaindumdum",
          "President Danos",
          "24.200.178.16",
          "JocularJellyfish",
          "100.33.240.189",
          "174.208.228.37",
          "94.66.220.231",
          "Susmuffin",
          "ASpacemanFalls",
          "140.105.103.195",
          "Art Vandelay Jr.",
          "Paul2520",
          "Domiy",
          "Davide King",
          "Munci",
          "LongIslandThomist914",
          "LissajousCurve",
          "Jaber42",
          "UpdateNerd",
          "QueenofBithynia",
          "LightNightLights",
          "The Ozzy Mandias",
          "MeasureWell",
          "Greenknight dv",
          "Anastrophe",
          "Mr. Lechkar",
          "Noble Metalloid",
          "InedibleHulk",
          "Careful With That Axe, Eugene",
          "Sandstein",
          "Lent",
          "Ou phrontis",
          "Languageseeker",
          "Clovermoss",
          "Cpotisch",
          "Jdavi333",
          "Terrible Tim",
          "1990'sguy",
          "HapHaxion",
          "SoupI",
          "PSA",
          "Enoki Mushroom",
          "Red-tailed hawk",
          "Svenskbygderna",
          "P1",
          "Bookwormr98",
          "District9123",
          "WP Ludicer",
          "Rockchalk717",
          "GoingBatty",
          "TuneyLoon",
          "P3Y229",
          "Fluffy89502",
          "GameRCrom",
          "Calvin999",
          "Javert2113",
          "Ananinunenon",
          "ThadeusOfNazereth",
          "Panda2018 0",
          "Szmenderowiecki",
          "Melcous",
          "Nick-D",
          "Des Vallee",
          "Kire1975",
          "Cannolis",
          "Jcbfgd",
          "Xezlec",
          "LuxViridi117",
          "Laura Trump",
          "Dr.Swag Lord, Ph.d",
          "Kwamikagami",
          "Mxn",
          "Pictureperfect2",
          "Leiwang7",
          "Booyahhayoob",
          "Xselant",
          "Acronius",
          "Genegerbreader",
          "SusanLesch",
          "Misty MH",
          "Nxavar",
          "StAnselm",
          "Aquila89",
          "JulenBengoitia",
          "Rotondus",
          "Narunnaia",
          "Bbb23",
          "Arpose",
          "Killuminator",
          "Thrakkx",
          "ItsMarkWbu",
          "Piotrus",
          "Kahtar",
          "TheGreatSG'rean",
          "Amakuru",
          "Darrenr72",
          "Scoophole2021",
          "Ubel",
          "Present Individual",
          "FredModulars",
          "IanDBeacon",
          "Y2kcrazyjoker4",
          "AleatoryPonderings",
          "Jruderman",
          "Loqiical",
          "Joseph A. Spadaro",
          "JaguarTears3003",
          "Of 19",
          "Pokelova",
          "UnitedStatesian",
          "DarTar",
          "Shushugah",
          "Psiĥedelisto",
          "RisingTzar",
          "Dylan1496",
          "Radiohist",
          "Johnny Rose 11",
          "Asdfjrjjj",
          "Migfab008",
          "Sover.200",
          "Saksapoiss",
          "Legalskeptic",
          "Igor Windsor",
          "NoonIcarus",
          "Chrism",
          "Rlendog",
          "Breastone",
          "TerWebz",
          "Game4brains",
          "Imzadi1979",
          "Jgeorge20",
          "GrafBismarck",
          "Callmemirela",
          "ComplexRational",
          "Ashley Y",
          "Haha what up brah",
          "TheEfficientMan",
          "Sir Beluga",
          "Little Professor",
          "BradPatrick",
          "Coltsfan",
          "Elishop",
          "Muboshgu",
          "Greyhound 84",
          "Keimzelle",
          "BMacZero",
          "TrottieTrue",
          "Tisnec",
          "Gazelle55",
          "Ibadibam",
          "Moscow Mule",
          "Bruce Esrig",
          "Ixtal",
          "DogsRNice",
          "Bender235",
          "Autarch",
          "Sunshineisles2",
          "Omnibus",
          "Denniscabrams",
          "DanzST",
          "Brandmeister",
          "D.M. from Ukraine",
          "Datavortex",
          "SuperWIKI",
          "Rileyrocks678",
          "2601:246:CD00:9CB0:CC81:5B05:757D:79C0",
          "Thomascampbell123",
          "Obesecrisco",
          "108.185.180.219",
          "Uneasydebates",
          "Aplucas0703",
          "TinyState",
          "AwesomeJay123",
          "2601:19B:881:AB30:E020:D9B1:47F9:1B62",
          "DumbBOT",
          "Paul Erik",
          "Sea Cow",
          "200.119.151.55",
          "190.75.24.48",
          "PhantomTech",
          "186.14.238.45",
          "ClueBot NG",
          "193.188.105.182",
          "49.228.96.153",
          "I84ifniv94",
          "99.157.52.168",
          "2600:1017:B01F:EF2D:FE0E:F3CB:B34C:8A72",
          "Epiphyllumlover",
          "Rhododendrites",
          "Goszei",
          "204.126.166.204",
          "Darkfrog24",
          "12.158.47.194",
          "Cysquatch",
          "ProcrastinatingReader",
          "2603:6000:F240:EC:D813:2721:6B3A:15C3",
          "ErnestKrause",
          "Lostinniagarafalls",
          "68.132.105.202",
          "137.113.55.12",
          "2600:8801:29:D100:E19E:437A:D4B4:CA9A",
          "Storchy",
          "Simon Peter Hughes",
          "Ekpyros",
          "TorbenTT",
          "142.161.79.207",
          "CapitalSasha",
          "InvadingInvader",
          "WatkynBassett",
          "Huw Powell",
          "TE(æ)A,ea.",
          "Inductiveload",
          "2601:C4:C300:5110:A9EE:96CD:2743:BEF9",
          "JMM12345",
          "Aismallard",
          "Izzy Borden",
          "2001:569:FA54:1700:530:B678:F320:DBF5",
          "209.171.88.165",
          "177.11.234.255",
          "Rummskartoffel",
          "Legoktm",
          "La lopi",
          "Jordan Mendelson",
          "147.136.6.31",
          "81.41.179.33",
          "Extremely Online",
          "ʤ",
          "Maxxhiato",
          "92.12.221.251",
          "MuZemike",
          "186.158.132.93",
          "Another Believer",
          "Omeganike",
          "99.233.85.109",
          "104.129.159.229",
          "Mr Reading Turtle",
          "Smaines",
          "Ckatz",
          "Ifly6",
          "Crazytales",
          "72.162.68.250",
          "Philip Cross",
          "2601:642:C200:673C:90FD:DF64:7C08:7C4B",
          "MelanieN",
          "2603:7081:4E40:D800:954E:D081:52F0:741C",
          "Overthrows",
          "Jcharet",
          "177.11.234.50",
          "Colinf.10",
          "2600:1700:13C0:938:356C:58F2:ECC6:EFAF",
          "Pverlain",
          "Facts707",
          "Rynb99",
          "Nerguy",
          "2600:1007:B1A9:AD59:D946:8824:47EB:600C",
          "47.149.214.79",
          "165.234.252.204",
          "Nixinova",
          "204.102.39.85",
          "TRM434",
          "100.35.209.24",
          "Mandarax",
          "50.47.130.243",
          "212.251.54.11",
          "84.71.118.185",
          "RoanokeVirginia",
          "Renamed user 5097696514",
          "199.172.169.29",
          "114.77.92.58",
          "Patapsco913",
          "Shrinkie89",
          "181.209.82.60",
          "Extraordinary Writ"
         ],
         "xaxis": "x",
         "y": [
          1,
          1,
          12,
          44,
          117,
          2,
          1,
          421,
          1,
          1,
          2,
          1,
          6,
          1,
          1,
          3,
          103,
          1,
          17,
          1,
          1,
          6,
          1,
          2,
          1,
          1,
          1,
          1,
          55,
          13,
          1,
          2,
          1,
          1,
          2,
          1,
          2,
          1,
          1,
          1,
          2,
          1,
          3,
          1,
          27,
          1,
          2,
          1,
          1,
          1,
          2,
          2,
          1,
          3,
          1,
          1,
          6,
          1,
          2,
          2,
          2,
          4,
          3,
          5,
          1,
          3,
          1,
          1,
          1,
          1,
          1,
          1,
          14,
          1,
          1,
          3,
          1,
          1,
          2,
          2,
          2,
          2,
          1,
          1,
          30,
          1,
          2,
          1,
          1,
          2,
          2,
          1,
          1,
          1,
          1,
          1,
          1,
          1,
          6,
          1,
          3,
          5,
          1,
          237,
          2,
          1,
          4,
          1,
          2,
          1,
          3,
          1,
          5,
          15,
          1,
          1,
          1,
          1,
          1,
          1,
          1,
          1,
          1,
          64,
          3,
          3,
          4,
          1,
          1,
          1,
          1,
          1,
          1,
          2,
          1,
          1,
          4,
          1,
          1,
          5,
          1,
          1,
          2,
          1,
          3,
          1,
          1,
          1,
          1,
          1,
          1,
          1,
          17,
          4,
          3,
          6,
          2,
          29,
          7,
          3,
          1,
          4,
          1,
          1,
          1,
          1,
          1,
          2,
          2,
          1,
          2,
          2,
          1,
          9,
          1,
          1,
          1,
          1,
          2,
          28,
          1,
          1,
          1,
          11,
          1,
          101,
          1,
          4,
          1,
          8,
          4,
          1,
          2,
          1,
          3,
          1,
          1,
          2,
          1,
          2,
          5,
          3,
          1,
          1,
          1,
          1,
          10,
          1,
          1,
          2,
          1,
          1,
          1,
          32,
          1,
          27,
          7,
          1,
          2,
          3,
          1,
          1,
          3,
          1,
          1,
          1,
          1,
          5,
          7,
          6,
          1,
          1,
          1,
          2,
          1,
          1,
          2,
          1,
          3,
          3,
          13,
          2,
          5,
          1,
          2,
          3,
          5,
          1,
          1,
          1,
          2,
          1,
          1,
          1,
          1,
          19,
          1,
          1,
          2,
          2,
          2,
          13,
          1,
          2,
          1,
          12,
          1,
          1,
          2,
          1,
          1,
          8,
          1,
          1,
          1,
          47,
          1,
          1,
          1,
          1,
          1,
          210,
          1,
          3,
          1,
          3,
          1,
          15,
          2,
          1,
          1,
          3,
          3,
          1,
          18,
          12,
          1,
          11,
          1,
          1,
          1,
          1,
          1,
          2,
          1,
          3,
          2,
          20,
          1,
          1,
          14,
          1,
          1,
          1,
          1,
          1,
          1,
          1,
          2,
          31,
          4,
          1,
          1,
          2,
          2,
          2,
          1,
          1,
          1,
          1,
          6,
          1,
          1,
          1,
          1,
          1,
          1,
          1,
          1,
          2,
          1,
          1,
          1,
          15,
          1,
          1,
          3,
          1,
          1,
          2,
          1,
          4,
          1,
          1,
          1,
          1,
          6,
          3,
          1,
          1,
          1,
          4,
          1,
          1,
          1,
          1,
          1,
          2,
          2,
          1,
          1,
          1,
          11,
          18,
          1,
          6,
          2,
          1,
          5,
          1,
          1,
          1,
          1,
          4,
          1,
          1,
          1,
          1,
          1,
          1,
          3,
          1,
          1,
          1,
          1,
          1,
          1,
          3,
          1,
          1,
          2,
          1,
          1,
          1,
          1,
          1,
          1,
          1,
          5,
          2,
          10,
          1,
          1,
          1,
          2,
          2,
          1,
          1,
          2,
          1,
          1,
          1,
          2,
          1,
          1,
          2,
          1,
          6,
          1,
          1,
          1,
          2,
          1,
          2,
          2,
          2,
          1,
          2,
          1,
          1,
          1,
          1,
          1,
          2,
          9,
          3,
          5,
          13,
          5,
          1,
          5,
          5,
          1,
          1,
          1,
          222,
          3,
          1,
          1,
          1,
          2,
          1,
          2,
          1,
          3,
          1,
          1,
          1,
          1,
          1,
          1,
          1,
          3,
          1,
          2,
          2,
          6,
          1,
          2,
          1,
          2,
          2,
          1,
          1,
          1,
          1,
          2,
          1,
          2,
          2,
          1,
          1,
          1,
          1,
          2,
          1,
          1,
          1,
          1,
          2,
          1,
          2,
          2,
          2,
          1,
          1,
          2,
          2,
          1,
          2,
          1,
          6,
          2,
          1,
          1,
          1,
          1,
          1,
          1,
          5,
          1,
          1,
          1,
          3,
          7,
          1,
          1,
          2,
          2,
          1,
          4,
          2,
          1,
          1,
          1,
          1,
          1,
          1,
          5,
          1,
          1
         ],
         "yaxis": "y"
        }
       ],
       "layout": {
        "barmode": "relative",
        "legend": {
         "tracegroupgap": 0
        },
        "template": {
         "data": {
          "bar": [
           {
            "error_x": {
             "color": "#2a3f5f"
            },
            "error_y": {
             "color": "#2a3f5f"
            },
            "marker": {
             "line": {
              "color": "#E5ECF6",
              "width": 0.5
             },
             "pattern": {
              "fillmode": "overlay",
              "size": 10,
              "solidity": 0.2
             }
            },
            "type": "bar"
           }
          ],
          "barpolar": [
           {
            "marker": {
             "line": {
              "color": "#E5ECF6",
              "width": 0.5
             },
             "pattern": {
              "fillmode": "overlay",
              "size": 10,
              "solidity": 0.2
             }
            },
            "type": "barpolar"
           }
          ],
          "carpet": [
           {
            "aaxis": {
             "endlinecolor": "#2a3f5f",
             "gridcolor": "white",
             "linecolor": "white",
             "minorgridcolor": "white",
             "startlinecolor": "#2a3f5f"
            },
            "baxis": {
             "endlinecolor": "#2a3f5f",
             "gridcolor": "white",
             "linecolor": "white",
             "minorgridcolor": "white",
             "startlinecolor": "#2a3f5f"
            },
            "type": "carpet"
           }
          ],
          "choropleth": [
           {
            "colorbar": {
             "outlinewidth": 0,
             "ticks": ""
            },
            "type": "choropleth"
           }
          ],
          "contour": [
           {
            "colorbar": {
             "outlinewidth": 0,
             "ticks": ""
            },
            "colorscale": [
             [
              0,
              "#0d0887"
             ],
             [
              0.1111111111111111,
              "#46039f"
             ],
             [
              0.2222222222222222,
              "#7201a8"
             ],
             [
              0.3333333333333333,
              "#9c179e"
             ],
             [
              0.4444444444444444,
              "#bd3786"
             ],
             [
              0.5555555555555556,
              "#d8576b"
             ],
             [
              0.6666666666666666,
              "#ed7953"
             ],
             [
              0.7777777777777778,
              "#fb9f3a"
             ],
             [
              0.8888888888888888,
              "#fdca26"
             ],
             [
              1,
              "#f0f921"
             ]
            ],
            "type": "contour"
           }
          ],
          "contourcarpet": [
           {
            "colorbar": {
             "outlinewidth": 0,
             "ticks": ""
            },
            "type": "contourcarpet"
           }
          ],
          "heatmap": [
           {
            "colorbar": {
             "outlinewidth": 0,
             "ticks": ""
            },
            "colorscale": [
             [
              0,
              "#0d0887"
             ],
             [
              0.1111111111111111,
              "#46039f"
             ],
             [
              0.2222222222222222,
              "#7201a8"
             ],
             [
              0.3333333333333333,
              "#9c179e"
             ],
             [
              0.4444444444444444,
              "#bd3786"
             ],
             [
              0.5555555555555556,
              "#d8576b"
             ],
             [
              0.6666666666666666,
              "#ed7953"
             ],
             [
              0.7777777777777778,
              "#fb9f3a"
             ],
             [
              0.8888888888888888,
              "#fdca26"
             ],
             [
              1,
              "#f0f921"
             ]
            ],
            "type": "heatmap"
           }
          ],
          "heatmapgl": [
           {
            "colorbar": {
             "outlinewidth": 0,
             "ticks": ""
            },
            "colorscale": [
             [
              0,
              "#0d0887"
             ],
             [
              0.1111111111111111,
              "#46039f"
             ],
             [
              0.2222222222222222,
              "#7201a8"
             ],
             [
              0.3333333333333333,
              "#9c179e"
             ],
             [
              0.4444444444444444,
              "#bd3786"
             ],
             [
              0.5555555555555556,
              "#d8576b"
             ],
             [
              0.6666666666666666,
              "#ed7953"
             ],
             [
              0.7777777777777778,
              "#fb9f3a"
             ],
             [
              0.8888888888888888,
              "#fdca26"
             ],
             [
              1,
              "#f0f921"
             ]
            ],
            "type": "heatmapgl"
           }
          ],
          "histogram": [
           {
            "marker": {
             "pattern": {
              "fillmode": "overlay",
              "size": 10,
              "solidity": 0.2
             }
            },
            "type": "histogram"
           }
          ],
          "histogram2d": [
           {
            "colorbar": {
             "outlinewidth": 0,
             "ticks": ""
            },
            "colorscale": [
             [
              0,
              "#0d0887"
             ],
             [
              0.1111111111111111,
              "#46039f"
             ],
             [
              0.2222222222222222,
              "#7201a8"
             ],
             [
              0.3333333333333333,
              "#9c179e"
             ],
             [
              0.4444444444444444,
              "#bd3786"
             ],
             [
              0.5555555555555556,
              "#d8576b"
             ],
             [
              0.6666666666666666,
              "#ed7953"
             ],
             [
              0.7777777777777778,
              "#fb9f3a"
             ],
             [
              0.8888888888888888,
              "#fdca26"
             ],
             [
              1,
              "#f0f921"
             ]
            ],
            "type": "histogram2d"
           }
          ],
          "histogram2dcontour": [
           {
            "colorbar": {
             "outlinewidth": 0,
             "ticks": ""
            },
            "colorscale": [
             [
              0,
              "#0d0887"
             ],
             [
              0.1111111111111111,
              "#46039f"
             ],
             [
              0.2222222222222222,
              "#7201a8"
             ],
             [
              0.3333333333333333,
              "#9c179e"
             ],
             [
              0.4444444444444444,
              "#bd3786"
             ],
             [
              0.5555555555555556,
              "#d8576b"
             ],
             [
              0.6666666666666666,
              "#ed7953"
             ],
             [
              0.7777777777777778,
              "#fb9f3a"
             ],
             [
              0.8888888888888888,
              "#fdca26"
             ],
             [
              1,
              "#f0f921"
             ]
            ],
            "type": "histogram2dcontour"
           }
          ],
          "mesh3d": [
           {
            "colorbar": {
             "outlinewidth": 0,
             "ticks": ""
            },
            "type": "mesh3d"
           }
          ],
          "parcoords": [
           {
            "line": {
             "colorbar": {
              "outlinewidth": 0,
              "ticks": ""
             }
            },
            "type": "parcoords"
           }
          ],
          "pie": [
           {
            "automargin": true,
            "type": "pie"
           }
          ],
          "scatter": [
           {
            "fillpattern": {
             "fillmode": "overlay",
             "size": 10,
             "solidity": 0.2
            },
            "type": "scatter"
           }
          ],
          "scatter3d": [
           {
            "line": {
             "colorbar": {
              "outlinewidth": 0,
              "ticks": ""
             }
            },
            "marker": {
             "colorbar": {
              "outlinewidth": 0,
              "ticks": ""
             }
            },
            "type": "scatter3d"
           }
          ],
          "scattercarpet": [
           {
            "marker": {
             "colorbar": {
              "outlinewidth": 0,
              "ticks": ""
             }
            },
            "type": "scattercarpet"
           }
          ],
          "scattergeo": [
           {
            "marker": {
             "colorbar": {
              "outlinewidth": 0,
              "ticks": ""
             }
            },
            "type": "scattergeo"
           }
          ],
          "scattergl": [
           {
            "marker": {
             "colorbar": {
              "outlinewidth": 0,
              "ticks": ""
             }
            },
            "type": "scattergl"
           }
          ],
          "scattermapbox": [
           {
            "marker": {
             "colorbar": {
              "outlinewidth": 0,
              "ticks": ""
             }
            },
            "type": "scattermapbox"
           }
          ],
          "scatterpolar": [
           {
            "marker": {
             "colorbar": {
              "outlinewidth": 0,
              "ticks": ""
             }
            },
            "type": "scatterpolar"
           }
          ],
          "scatterpolargl": [
           {
            "marker": {
             "colorbar": {
              "outlinewidth": 0,
              "ticks": ""
             }
            },
            "type": "scatterpolargl"
           }
          ],
          "scatterternary": [
           {
            "marker": {
             "colorbar": {
              "outlinewidth": 0,
              "ticks": ""
             }
            },
            "type": "scatterternary"
           }
          ],
          "surface": [
           {
            "colorbar": {
             "outlinewidth": 0,
             "ticks": ""
            },
            "colorscale": [
             [
              0,
              "#0d0887"
             ],
             [
              0.1111111111111111,
              "#46039f"
             ],
             [
              0.2222222222222222,
              "#7201a8"
             ],
             [
              0.3333333333333333,
              "#9c179e"
             ],
             [
              0.4444444444444444,
              "#bd3786"
             ],
             [
              0.5555555555555556,
              "#d8576b"
             ],
             [
              0.6666666666666666,
              "#ed7953"
             ],
             [
              0.7777777777777778,
              "#fb9f3a"
             ],
             [
              0.8888888888888888,
              "#fdca26"
             ],
             [
              1,
              "#f0f921"
             ]
            ],
            "type": "surface"
           }
          ],
          "table": [
           {
            "cells": {
             "fill": {
              "color": "#EBF0F8"
             },
             "line": {
              "color": "white"
             }
            },
            "header": {
             "fill": {
              "color": "#C8D4E3"
             },
             "line": {
              "color": "white"
             }
            },
            "type": "table"
           }
          ]
         },
         "layout": {
          "annotationdefaults": {
           "arrowcolor": "#2a3f5f",
           "arrowhead": 0,
           "arrowwidth": 1
          },
          "autotypenumbers": "strict",
          "coloraxis": {
           "colorbar": {
            "outlinewidth": 0,
            "ticks": ""
           }
          },
          "colorscale": {
           "diverging": [
            [
             0,
             "#8e0152"
            ],
            [
             0.1,
             "#c51b7d"
            ],
            [
             0.2,
             "#de77ae"
            ],
            [
             0.3,
             "#f1b6da"
            ],
            [
             0.4,
             "#fde0ef"
            ],
            [
             0.5,
             "#f7f7f7"
            ],
            [
             0.6,
             "#e6f5d0"
            ],
            [
             0.7,
             "#b8e186"
            ],
            [
             0.8,
             "#7fbc41"
            ],
            [
             0.9,
             "#4d9221"
            ],
            [
             1,
             "#276419"
            ]
           ],
           "sequential": [
            [
             0,
             "#0d0887"
            ],
            [
             0.1111111111111111,
             "#46039f"
            ],
            [
             0.2222222222222222,
             "#7201a8"
            ],
            [
             0.3333333333333333,
             "#9c179e"
            ],
            [
             0.4444444444444444,
             "#bd3786"
            ],
            [
             0.5555555555555556,
             "#d8576b"
            ],
            [
             0.6666666666666666,
             "#ed7953"
            ],
            [
             0.7777777777777778,
             "#fb9f3a"
            ],
            [
             0.8888888888888888,
             "#fdca26"
            ],
            [
             1,
             "#f0f921"
            ]
           ],
           "sequentialminus": [
            [
             0,
             "#0d0887"
            ],
            [
             0.1111111111111111,
             "#46039f"
            ],
            [
             0.2222222222222222,
             "#7201a8"
            ],
            [
             0.3333333333333333,
             "#9c179e"
            ],
            [
             0.4444444444444444,
             "#bd3786"
            ],
            [
             0.5555555555555556,
             "#d8576b"
            ],
            [
             0.6666666666666666,
             "#ed7953"
            ],
            [
             0.7777777777777778,
             "#fb9f3a"
            ],
            [
             0.8888888888888888,
             "#fdca26"
            ],
            [
             1,
             "#f0f921"
            ]
           ]
          },
          "colorway": [
           "#636efa",
           "#EF553B",
           "#00cc96",
           "#ab63fa",
           "#FFA15A",
           "#19d3f3",
           "#FF6692",
           "#B6E880",
           "#FF97FF",
           "#FECB52"
          ],
          "font": {
           "color": "#2a3f5f"
          },
          "geo": {
           "bgcolor": "white",
           "lakecolor": "white",
           "landcolor": "#E5ECF6",
           "showlakes": true,
           "showland": true,
           "subunitcolor": "white"
          },
          "hoverlabel": {
           "align": "left"
          },
          "hovermode": "closest",
          "mapbox": {
           "style": "light"
          },
          "paper_bgcolor": "white",
          "plot_bgcolor": "#E5ECF6",
          "polar": {
           "angularaxis": {
            "gridcolor": "white",
            "linecolor": "white",
            "ticks": ""
           },
           "bgcolor": "#E5ECF6",
           "radialaxis": {
            "gridcolor": "white",
            "linecolor": "white",
            "ticks": ""
           }
          },
          "scene": {
           "xaxis": {
            "backgroundcolor": "#E5ECF6",
            "gridcolor": "white",
            "gridwidth": 2,
            "linecolor": "white",
            "showbackground": true,
            "ticks": "",
            "zerolinecolor": "white"
           },
           "yaxis": {
            "backgroundcolor": "#E5ECF6",
            "gridcolor": "white",
            "gridwidth": 2,
            "linecolor": "white",
            "showbackground": true,
            "ticks": "",
            "zerolinecolor": "white"
           },
           "zaxis": {
            "backgroundcolor": "#E5ECF6",
            "gridcolor": "white",
            "gridwidth": 2,
            "linecolor": "white",
            "showbackground": true,
            "ticks": "",
            "zerolinecolor": "white"
           }
          },
          "shapedefaults": {
           "line": {
            "color": "#2a3f5f"
           }
          },
          "ternary": {
           "aaxis": {
            "gridcolor": "white",
            "linecolor": "white",
            "ticks": ""
           },
           "baxis": {
            "gridcolor": "white",
            "linecolor": "white",
            "ticks": ""
           },
           "bgcolor": "#E5ECF6",
           "caxis": {
            "gridcolor": "white",
            "linecolor": "white",
            "ticks": ""
           }
          },
          "title": {
           "x": 0.05
          },
          "xaxis": {
           "automargin": true,
           "gridcolor": "white",
           "linecolor": "white",
           "ticks": "",
           "title": {
            "standoff": 15
           },
           "zerolinecolor": "white",
           "zerolinewidth": 2
          },
          "yaxis": {
           "automargin": true,
           "gridcolor": "white",
           "linecolor": "white",
           "ticks": "",
           "title": {
            "standoff": 15
           },
           "zerolinecolor": "white",
           "zerolinewidth": 2
          }
         }
        },
        "title": {
         "text": "Revision Count by User"
        },
        "xaxis": {
         "anchor": "y",
         "domain": [
          0,
          1
         ],
         "title": {
          "text": "username"
         }
        },
        "yaxis": {
         "anchor": "x",
         "domain": [
          0,
          1
         ],
         "title": {
          "text": "revision_count"
         }
        }
       }
      },
      "text/html": [
       "<div>                            <div id=\"30d32efc-1817-4303-b1c6-194cc607d10d\" class=\"plotly-graph-div\" style=\"height:525px; width:100%;\"></div>            <script type=\"text/javascript\">                require([\"plotly\"], function(Plotly) {                    window.PLOTLYENV=window.PLOTLYENV || {};                                    if (document.getElementById(\"30d32efc-1817-4303-b1c6-194cc607d10d\")) {                    Plotly.newPlot(                        \"30d32efc-1817-4303-b1c6-194cc607d10d\",                        [{\"alignmentgroup\":\"True\",\"hovertemplate\":\"username=%{x}<br>revision_count=%{y}<extra></extra>\",\"legendgroup\":\"\",\"marker\":{\"color\":\"#636efa\",\"pattern\":{\"shape\":\"\"}},\"name\":\"\",\"offsetgroup\":\"\",\"orientation\":\"v\",\"showlegend\":false,\"textposition\":\"auto\",\"x\":[\"K1ausMouse\",\"Hinnk\",\"SilverLocust\",\"Citation bot\",\"AlsoWukai\",\"MusikBot II\",\"El C\",\"Masem\",\"Doomdorm64\",\"CanonNi\",\"Jacob David Dove Pottage\",\"PenguinEncounter2\",\"Username6892\",\"2600:1700:26F0:5000:A179:3F72:F541:8B2A\",\"MarkiPoli\",\"71.17.30.21\",\"KlayCax\",\"MrsKoma\",\"AnomieBOT\",\"PineappleFury\",\"Amberkitten\",\"Urnslenny\",\"Theleekycauldron\",\"SdkbBot\",\"155.186.180.170\",\"24.56.77.201\",\"Maxim Masiutin\",\"Cityplace2711\",\"Ben Azura\",\"TragicPower\",\"142.165.160.66\",\"Wuerzele\",\"Smarick\",\"50.237.13.60\",\"Xam2580\",\"90.63.45.83\",\"Sideswipe9th\",\"Egeymi\",\"Mako001\",\"174.79.52.108\",\"CarpCharacin\",\"Abed93\",\"David Gerard\",\"PrimeBOT\",\"3Kingdoms\",\"InternetArchiveBot\",\"DividedFrame\",\"Asherkobin\",\"Microglia145\",\"DanCherek\",\"2601:80:C67E:E200:E41B:4F98:663D:36A9\",\"OAbot\",\"Slovebz\",\"Harfarhs\",\"BenbowInn\",\"MicrobiologyMarcus\",\"WikiCleanerBot\",\"Vaughan Pratt\",\"208.58.209.186\",\"Goodtablemanners\",\"GreenC bot\",\"Dancingtudorqueen\",\"Rodw\",\"Scorpions1325\",\"203.211.79.215\",\"Andrevan\",\"69.84.57.190\",\"AdjustablePliers\",\"YourJudge\",\"Rhain\",\"ParanormalRat\",\"The C of E\",\"William M. Connolley\",\"Jacques Rena\\u00eetre\",\"Spaghetti335\",\"82.41.67.194\",\"InfoManiac297\",\"2600:6C5E:177F:8C04:E58A:D7C1:6B60:9ECB\",\"FMSky\",\"67.140.103.187\",\"Corgi Stays\",\"Anomalocaris\",\"Natg 19\",\"Volvlogia\",\"GuardianH\",\"2607:FB91:1714:10C4:3465:5EAB:79B6:5C90\",\"FederalistWordsmith\",\"Onel5969\",\"66.219.4.191\",\"2601:448:C380:E9A0:507:DC1B:2D5D:5EEF\",\"BD2412\",\"Thincat\",\"63.86.0.118\",\"Scorpions13256\",\"Parkwells\",\"46.31.102.31\",\"Evanbaldonado\",\"2600:1700:43CC:490:60D6:CC4C:9DC7:513C\",\"Treybien2\",\"Malerooster\",\"Losipov\",\"A. Randomdude0000\",\"2601:448:C380:E9A0:609B:1940:527B:E12\",\"ByVarying\",\"PedanticallySpeaking\",\"Pickle Mon\",\"Yak\\u00e1simba\",\"Texan2920\",\"Nightscream\",\"Alanhuang122\",\"Snickers2686\",\"NathanBru\",\"Vgy7ujm\",\"Bneu2013\",\"Jasonkwe\",\"PoliticalWizard55\",\"2600:1700:12F0:2370:E004:4C4D:FDE4:F063\",\"93.107.189.229\",\"CopperyMarrow15\",\"Quaerens-veritatem\",\"2607:F2C0:EB86:9C:5190:4BD7:5A22:F931\",\"Apcynan\",\"206.204.236.108\",\"Neutrality\",\"122.62.139.6\",\"199.107.16.122\",\"General Ization\",\"108.5.14.221\",\"Volhosis\",\"2601:47:4B00:7A60:617A:F3BB:50B4:217C\",\"JesusIsLord444\",\"CmdrDan\",\"HeyElliott\",\"2600:1700:12F0:2370:74BF:C4D0:DDEC:13E8\",\"76.146.32.117\",\"2A02:AA1:1026:D6D4:3487:4994:ED22:A541\",\"Tondelleo Schwarzkopf\",\"Bee Eater007\",\"Tgeorgescu\",\"2600:8805:3E13:3E00:88B8:1D11:5046:A2A9\",\"Darklilac\",\"Clyde H. Mapping\",\"98.172.105.25\",\"2A00:20:400B:A4E6:C076:7DF1:C165:7FDE\",\"Sirkh1\",\"Minorax\",\"Emmairena\",\"86.124.125.129\",\"2600:4041:5285:1500:9818:FA7:6D5A:12A1\",\"Wiki000001\",\"24.45.239.163\",\"Numberguy6\",\"Politicsfan4\",\"SnoopyAndCharlieBrown202070\",\"SeeAlsoPolice\",\"Red Slash\",\"Ecangola\",\"Iamreallygoodatcheckers\",\"Coolperson177\",\"Davemck\",\"2001:448A:50E1:74A4:A059:8707:CAB:67BA\",\"Patar knight\",\"Goodone121\",\"Polmas\",\"Timrollpickering\",\"2601:183:4A80:E570:4C39:CE5C:87C4:7070\",\"2604:3D09:E17F:DFB0:7C90:A21C:E4CD:17A6\",\"Martindo\",\"Garrbailey\",\"TheXuitts\",\"EmmaCoop\",\"Revangarde568\",\"3mi1y\",\"Love of Corey\",\"Sdkb\",\"Toketaa\",\"205.155.234.129\",\"2605:8D80:445:963D:D0CA:4254:62F2:81F8\",\"BattyBot\",\"Endwise\",\"MagicatthemovieS\",\"2607:F470:6:3001:3062:4D62:D37E:F5F7\",\"Brainulator9\",\"Karma1998\",\"DraftSaturn15\",\"Phillip Samuel\",\"Aussiegirl 13\",\"GreenFrogsGoRibbit\",\"194.214.167.58\",\"Alkazar9999\",\"Bill Williams\",\"144.39.222.180\",\"38.34.60.136\",\"Adakiko\",\"88.155.103.36\",\"Duonaut\",\"207.70.160.108\",\"88.155.100.216\",\"2601:3C6:4201:4E0:0:0:0:DD99\",\"2601:183:102:2A10:488B:4EED:5A46:3438\",\"CASalt\",\"Beland\",\"Zzyzx11\",\"222.154.90.153\",\"Tricana8571uno\",\"Maxwhollymoralground\",\"Needforspeed888\",\"John Broughton\",\"TortillaDePapas\",\"BrownHairedGirl\",\"Kaltenmeyer\",\"Nerd271\",\"Genericusername57\",\"X-Editor\",\"2600:1700:1CD6:A7D0:911E:BE16:B228:DC3F\",\"JoePhin\",\"Closed Limelike Curves\",\"William Avery\",\"Equilibrial\",\"Leontrooper\",\"Aidan9382\",\"2601:243:1:17A0:345E:A499:81E0:1F6D\",\"50.235.12.38\",\"I dream of horses\",\"130.239.239.168\",\"Wikipedialuva\",\"177.11.236.144\",\"107.11.37.51\",\"50.92.146.90\",\"EvergreenFir\",\"Benda2016\",\"D wiki 54\",\"2603:3001:700:BC00:8CBF:FB5C:81B0:964E\",\"Anon423\",\"118.211.36.125\",\"AyaK\",\"Williamgregory213\",\"Kbabej\",\"JParksT2023\",\"Antiok 1pie\",\"Compassionate727\",\"Jmheer11\",\"PBZE\",\"69.131.174.49\",\"Royalistandlegitimist\",\"Sj\\u00f6\",\"134.215.177.214\",\"Roxy the dog\",\"HMSLavender\",\"Hekerui\",\"FortUser\",\"MrOllie\",\"2600:1011:B002:E986:C452:9D51:6072:DB0E\",\"Refsjjehhgshh\",\"99.95.232.199\",\"Jade Ten\",\"LogStar100\",\"2603:3024:182E:6E00:4E6:9BA5:8A58:F2E6\",\"Nice Stories\",\"Dlambe3\",\"Tentemp\",\"Leaky.Solar\",\"Peter z Pienin\",\"2600:387:15:615:0:0:0:9\",\"99.197.202.188\",\"Ageofultron\",\"2600:6C48:427F:F84E:70E2:AD69:2D56:789C\",\"Therequiembellishere\",\"Adityaindumdum\",\"President Danos\",\"24.200.178.16\",\"JocularJellyfish\",\"100.33.240.189\",\"174.208.228.37\",\"94.66.220.231\",\"Susmuffin\",\"ASpacemanFalls\",\"140.105.103.195\",\"Art Vandelay Jr.\",\"Paul2520\",\"Domiy\",\"Davide King\",\"Munci\",\"LongIslandThomist914\",\"LissajousCurve\",\"Jaber42\",\"UpdateNerd\",\"QueenofBithynia\",\"LightNightLights\",\"The Ozzy Mandias\",\"MeasureWell\",\"Greenknight dv\",\"Anastrophe\",\"Mr. Lechkar\",\"Noble Metalloid\",\"InedibleHulk\",\"Careful With That Axe, Eugene\",\"Sandstein\",\"Lent\",\"Ou phrontis\",\"Languageseeker\",\"Clovermoss\",\"Cpotisch\",\"Jdavi333\",\"Terrible Tim\",\"1990'sguy\",\"HapHaxion\",\"SoupI\",\"PSA\",\"Enoki Mushroom\",\"Red-tailed hawk\",\"Svenskbygderna\",\"P1\",\"Bookwormr98\",\"District9123\",\"WP Ludicer\",\"Rockchalk717\",\"GoingBatty\",\"TuneyLoon\",\"P3Y229\",\"Fluffy89502\",\"GameRCrom\",\"Calvin999\",\"Javert2113\",\"Ananinunenon\",\"ThadeusOfNazereth\",\"Panda2018 0\",\"Szmenderowiecki\",\"Melcous\",\"Nick-D\",\"Des Vallee\",\"Kire1975\",\"Cannolis\",\"Jcbfgd\",\"Xezlec\",\"LuxViridi117\",\"Laura Trump\",\"Dr.Swag Lord, Ph.d\",\"Kwamikagami\",\"Mxn\",\"Pictureperfect2\",\"Leiwang7\",\"Booyahhayoob\",\"Xselant\",\"Acronius\",\"Genegerbreader\",\"SusanLesch\",\"Misty MH\",\"Nxavar\",\"StAnselm\",\"Aquila89\",\"JulenBengoitia\",\"Rotondus\",\"Narunnaia\",\"Bbb23\",\"Arpose\",\"Killuminator\",\"Thrakkx\",\"ItsMarkWbu\",\"Piotrus\",\"Kahtar\",\"TheGreatSG'rean\",\"Amakuru\",\"Darrenr72\",\"Scoophole2021\",\"Ubel\",\"Present Individual\",\"FredModulars\",\"IanDBeacon\",\"Y2kcrazyjoker4\",\"AleatoryPonderings\",\"Jruderman\",\"Loqiical\",\"Joseph A. Spadaro\",\"JaguarTears3003\",\"Of 19\",\"Pokelova\",\"UnitedStatesian\",\"DarTar\",\"Shushugah\",\"Psi\\u0125edelisto\",\"RisingTzar\",\"Dylan1496\",\"Radiohist\",\"Johnny Rose 11\",\"Asdfjrjjj\",\"Migfab008\",\"Sover.200\",\"Saksapoiss\",\"Legalskeptic\",\"Igor Windsor\",\"NoonIcarus\",\"Chrism\",\"Rlendog\",\"Breastone\",\"TerWebz\",\"Game4brains\",\"Imzadi1979\",\"Jgeorge20\",\"GrafBismarck\",\"Callmemirela\",\"ComplexRational\",\"Ashley Y\",\"Haha what up brah\",\"TheEfficientMan\",\"Sir Beluga\",\"Little Professor\",\"BradPatrick\",\"Coltsfan\",\"Elishop\",\"Muboshgu\",\"Greyhound 84\",\"Keimzelle\",\"BMacZero\",\"TrottieTrue\",\"Tisnec\",\"Gazelle55\",\"Ibadibam\",\"Moscow Mule\",\"Bruce Esrig\",\"Ixtal\",\"DogsRNice\",\"Bender235\",\"Autarch\",\"Sunshineisles2\",\"Omnibus\",\"Denniscabrams\",\"DanzST\",\"Brandmeister\",\"D.M. from Ukraine\",\"Datavortex\",\"SuperWIKI\",\"Rileyrocks678\",\"2601:246:CD00:9CB0:CC81:5B05:757D:79C0\",\"Thomascampbell123\",\"Obesecrisco\",\"108.185.180.219\",\"Uneasydebates\",\"Aplucas0703\",\"TinyState\",\"AwesomeJay123\",\"2601:19B:881:AB30:E020:D9B1:47F9:1B62\",\"DumbBOT\",\"Paul Erik\",\"Sea Cow\",\"200.119.151.55\",\"190.75.24.48\",\"PhantomTech\",\"186.14.238.45\",\"ClueBot NG\",\"193.188.105.182\",\"49.228.96.153\",\"I84ifniv94\",\"99.157.52.168\",\"2600:1017:B01F:EF2D:FE0E:F3CB:B34C:8A72\",\"Epiphyllumlover\",\"Rhododendrites\",\"Goszei\",\"204.126.166.204\",\"Darkfrog24\",\"12.158.47.194\",\"Cysquatch\",\"ProcrastinatingReader\",\"2603:6000:F240:EC:D813:2721:6B3A:15C3\",\"ErnestKrause\",\"Lostinniagarafalls\",\"68.132.105.202\",\"137.113.55.12\",\"2600:8801:29:D100:E19E:437A:D4B4:CA9A\",\"Storchy\",\"Simon Peter Hughes\",\"Ekpyros\",\"TorbenTT\",\"142.161.79.207\",\"CapitalSasha\",\"InvadingInvader\",\"WatkynBassett\",\"Huw Powell\",\"TE(\\u00e6)A,ea.\",\"Inductiveload\",\"2601:C4:C300:5110:A9EE:96CD:2743:BEF9\",\"JMM12345\",\"Aismallard\",\"Izzy Borden\",\"2001:569:FA54:1700:530:B678:F320:DBF5\",\"209.171.88.165\",\"177.11.234.255\",\"Rummskartoffel\",\"Legoktm\",\"La lopi\",\"Jordan Mendelson\",\"147.136.6.31\",\"81.41.179.33\",\"Extremely Online\",\"\\u02a4\",\"Maxxhiato\",\"92.12.221.251\",\"MuZemike\",\"186.158.132.93\",\"Another Believer\",\"Omeganike\",\"99.233.85.109\",\"104.129.159.229\",\"Mr Reading Turtle\",\"Smaines\",\"Ckatz\",\"Ifly6\",\"Crazytales\",\"72.162.68.250\",\"Philip Cross\",\"2601:642:C200:673C:90FD:DF64:7C08:7C4B\",\"MelanieN\",\"2603:7081:4E40:D800:954E:D081:52F0:741C\",\"Overthrows\",\"Jcharet\",\"177.11.234.50\",\"Colinf.10\",\"2600:1700:13C0:938:356C:58F2:ECC6:EFAF\",\"Pverlain\",\"Facts707\",\"Rynb99\",\"Nerguy\",\"2600:1007:B1A9:AD59:D946:8824:47EB:600C\",\"47.149.214.79\",\"165.234.252.204\",\"Nixinova\",\"204.102.39.85\",\"TRM434\",\"100.35.209.24\",\"Mandarax\",\"50.47.130.243\",\"212.251.54.11\",\"84.71.118.185\",\"RoanokeVirginia\",\"Renamed user 5097696514\",\"199.172.169.29\",\"114.77.92.58\",\"Patapsco913\",\"Shrinkie89\",\"181.209.82.60\",\"Extraordinary Writ\"],\"xaxis\":\"x\",\"y\":[1,1,12,44,117,2,1,421,1,1,2,1,6,1,1,3,103,1,17,1,1,6,1,2,1,1,1,1,55,13,1,2,1,1,2,1,2,1,1,1,2,1,3,1,27,1,2,1,1,1,2,2,1,3,1,1,6,1,2,2,2,4,3,5,1,3,1,1,1,1,1,1,14,1,1,3,1,1,2,2,2,2,1,1,30,1,2,1,1,2,2,1,1,1,1,1,1,1,6,1,3,5,1,237,2,1,4,1,2,1,3,1,5,15,1,1,1,1,1,1,1,1,1,64,3,3,4,1,1,1,1,1,1,2,1,1,4,1,1,5,1,1,2,1,3,1,1,1,1,1,1,1,17,4,3,6,2,29,7,3,1,4,1,1,1,1,1,2,2,1,2,2,1,9,1,1,1,1,2,28,1,1,1,11,1,101,1,4,1,8,4,1,2,1,3,1,1,2,1,2,5,3,1,1,1,1,10,1,1,2,1,1,1,32,1,27,7,1,2,3,1,1,3,1,1,1,1,5,7,6,1,1,1,2,1,1,2,1,3,3,13,2,5,1,2,3,5,1,1,1,2,1,1,1,1,19,1,1,2,2,2,13,1,2,1,12,1,1,2,1,1,8,1,1,1,47,1,1,1,1,1,210,1,3,1,3,1,15,2,1,1,3,3,1,18,12,1,11,1,1,1,1,1,2,1,3,2,20,1,1,14,1,1,1,1,1,1,1,2,31,4,1,1,2,2,2,1,1,1,1,6,1,1,1,1,1,1,1,1,2,1,1,1,15,1,1,3,1,1,2,1,4,1,1,1,1,6,3,1,1,1,4,1,1,1,1,1,2,2,1,1,1,11,18,1,6,2,1,5,1,1,1,1,4,1,1,1,1,1,1,3,1,1,1,1,1,1,3,1,1,2,1,1,1,1,1,1,1,5,2,10,1,1,1,2,2,1,1,2,1,1,1,2,1,1,2,1,6,1,1,1,2,1,2,2,2,1,2,1,1,1,1,1,2,9,3,5,13,5,1,5,5,1,1,1,222,3,1,1,1,2,1,2,1,3,1,1,1,1,1,1,1,3,1,2,2,6,1,2,1,2,2,1,1,1,1,2,1,2,2,1,1,1,1,2,1,1,1,1,2,1,2,2,2,1,1,2,2,1,2,1,6,2,1,1,1,1,1,1,5,1,1,1,3,7,1,1,2,2,1,4,2,1,1,1,1,1,1,5,1,1],\"yaxis\":\"y\",\"type\":\"bar\"}],                        {\"template\":{\"data\":{\"histogram2dcontour\":[{\"type\":\"histogram2dcontour\",\"colorbar\":{\"outlinewidth\":0,\"ticks\":\"\"},\"colorscale\":[[0.0,\"#0d0887\"],[0.1111111111111111,\"#46039f\"],[0.2222222222222222,\"#7201a8\"],[0.3333333333333333,\"#9c179e\"],[0.4444444444444444,\"#bd3786\"],[0.5555555555555556,\"#d8576b\"],[0.6666666666666666,\"#ed7953\"],[0.7777777777777778,\"#fb9f3a\"],[0.8888888888888888,\"#fdca26\"],[1.0,\"#f0f921\"]]}],\"choropleth\":[{\"type\":\"choropleth\",\"colorbar\":{\"outlinewidth\":0,\"ticks\":\"\"}}],\"histogram2d\":[{\"type\":\"histogram2d\",\"colorbar\":{\"outlinewidth\":0,\"ticks\":\"\"},\"colorscale\":[[0.0,\"#0d0887\"],[0.1111111111111111,\"#46039f\"],[0.2222222222222222,\"#7201a8\"],[0.3333333333333333,\"#9c179e\"],[0.4444444444444444,\"#bd3786\"],[0.5555555555555556,\"#d8576b\"],[0.6666666666666666,\"#ed7953\"],[0.7777777777777778,\"#fb9f3a\"],[0.8888888888888888,\"#fdca26\"],[1.0,\"#f0f921\"]]}],\"heatmap\":[{\"type\":\"heatmap\",\"colorbar\":{\"outlinewidth\":0,\"ticks\":\"\"},\"colorscale\":[[0.0,\"#0d0887\"],[0.1111111111111111,\"#46039f\"],[0.2222222222222222,\"#7201a8\"],[0.3333333333333333,\"#9c179e\"],[0.4444444444444444,\"#bd3786\"],[0.5555555555555556,\"#d8576b\"],[0.6666666666666666,\"#ed7953\"],[0.7777777777777778,\"#fb9f3a\"],[0.8888888888888888,\"#fdca26\"],[1.0,\"#f0f921\"]]}],\"heatmapgl\":[{\"type\":\"heatmapgl\",\"colorbar\":{\"outlinewidth\":0,\"ticks\":\"\"},\"colorscale\":[[0.0,\"#0d0887\"],[0.1111111111111111,\"#46039f\"],[0.2222222222222222,\"#7201a8\"],[0.3333333333333333,\"#9c179e\"],[0.4444444444444444,\"#bd3786\"],[0.5555555555555556,\"#d8576b\"],[0.6666666666666666,\"#ed7953\"],[0.7777777777777778,\"#fb9f3a\"],[0.8888888888888888,\"#fdca26\"],[1.0,\"#f0f921\"]]}],\"contourcarpet\":[{\"type\":\"contourcarpet\",\"colorbar\":{\"outlinewidth\":0,\"ticks\":\"\"}}],\"contour\":[{\"type\":\"contour\",\"colorbar\":{\"outlinewidth\":0,\"ticks\":\"\"},\"colorscale\":[[0.0,\"#0d0887\"],[0.1111111111111111,\"#46039f\"],[0.2222222222222222,\"#7201a8\"],[0.3333333333333333,\"#9c179e\"],[0.4444444444444444,\"#bd3786\"],[0.5555555555555556,\"#d8576b\"],[0.6666666666666666,\"#ed7953\"],[0.7777777777777778,\"#fb9f3a\"],[0.8888888888888888,\"#fdca26\"],[1.0,\"#f0f921\"]]}],\"surface\":[{\"type\":\"surface\",\"colorbar\":{\"outlinewidth\":0,\"ticks\":\"\"},\"colorscale\":[[0.0,\"#0d0887\"],[0.1111111111111111,\"#46039f\"],[0.2222222222222222,\"#7201a8\"],[0.3333333333333333,\"#9c179e\"],[0.4444444444444444,\"#bd3786\"],[0.5555555555555556,\"#d8576b\"],[0.6666666666666666,\"#ed7953\"],[0.7777777777777778,\"#fb9f3a\"],[0.8888888888888888,\"#fdca26\"],[1.0,\"#f0f921\"]]}],\"mesh3d\":[{\"type\":\"mesh3d\",\"colorbar\":{\"outlinewidth\":0,\"ticks\":\"\"}}],\"scatter\":[{\"fillpattern\":{\"fillmode\":\"overlay\",\"size\":10,\"solidity\":0.2},\"type\":\"scatter\"}],\"parcoords\":[{\"type\":\"parcoords\",\"line\":{\"colorbar\":{\"outlinewidth\":0,\"ticks\":\"\"}}}],\"scatterpolargl\":[{\"type\":\"scatterpolargl\",\"marker\":{\"colorbar\":{\"outlinewidth\":0,\"ticks\":\"\"}}}],\"bar\":[{\"error_x\":{\"color\":\"#2a3f5f\"},\"error_y\":{\"color\":\"#2a3f5f\"},\"marker\":{\"line\":{\"color\":\"#E5ECF6\",\"width\":0.5},\"pattern\":{\"fillmode\":\"overlay\",\"size\":10,\"solidity\":0.2}},\"type\":\"bar\"}],\"scattergeo\":[{\"type\":\"scattergeo\",\"marker\":{\"colorbar\":{\"outlinewidth\":0,\"ticks\":\"\"}}}],\"scatterpolar\":[{\"type\":\"scatterpolar\",\"marker\":{\"colorbar\":{\"outlinewidth\":0,\"ticks\":\"\"}}}],\"histogram\":[{\"marker\":{\"pattern\":{\"fillmode\":\"overlay\",\"size\":10,\"solidity\":0.2}},\"type\":\"histogram\"}],\"scattergl\":[{\"type\":\"scattergl\",\"marker\":{\"colorbar\":{\"outlinewidth\":0,\"ticks\":\"\"}}}],\"scatter3d\":[{\"type\":\"scatter3d\",\"line\":{\"colorbar\":{\"outlinewidth\":0,\"ticks\":\"\"}},\"marker\":{\"colorbar\":{\"outlinewidth\":0,\"ticks\":\"\"}}}],\"scattermapbox\":[{\"type\":\"scattermapbox\",\"marker\":{\"colorbar\":{\"outlinewidth\":0,\"ticks\":\"\"}}}],\"scatterternary\":[{\"type\":\"scatterternary\",\"marker\":{\"colorbar\":{\"outlinewidth\":0,\"ticks\":\"\"}}}],\"scattercarpet\":[{\"type\":\"scattercarpet\",\"marker\":{\"colorbar\":{\"outlinewidth\":0,\"ticks\":\"\"}}}],\"carpet\":[{\"aaxis\":{\"endlinecolor\":\"#2a3f5f\",\"gridcolor\":\"white\",\"linecolor\":\"white\",\"minorgridcolor\":\"white\",\"startlinecolor\":\"#2a3f5f\"},\"baxis\":{\"endlinecolor\":\"#2a3f5f\",\"gridcolor\":\"white\",\"linecolor\":\"white\",\"minorgridcolor\":\"white\",\"startlinecolor\":\"#2a3f5f\"},\"type\":\"carpet\"}],\"table\":[{\"cells\":{\"fill\":{\"color\":\"#EBF0F8\"},\"line\":{\"color\":\"white\"}},\"header\":{\"fill\":{\"color\":\"#C8D4E3\"},\"line\":{\"color\":\"white\"}},\"type\":\"table\"}],\"barpolar\":[{\"marker\":{\"line\":{\"color\":\"#E5ECF6\",\"width\":0.5},\"pattern\":{\"fillmode\":\"overlay\",\"size\":10,\"solidity\":0.2}},\"type\":\"barpolar\"}],\"pie\":[{\"automargin\":true,\"type\":\"pie\"}]},\"layout\":{\"autotypenumbers\":\"strict\",\"colorway\":[\"#636efa\",\"#EF553B\",\"#00cc96\",\"#ab63fa\",\"#FFA15A\",\"#19d3f3\",\"#FF6692\",\"#B6E880\",\"#FF97FF\",\"#FECB52\"],\"font\":{\"color\":\"#2a3f5f\"},\"hovermode\":\"closest\",\"hoverlabel\":{\"align\":\"left\"},\"paper_bgcolor\":\"white\",\"plot_bgcolor\":\"#E5ECF6\",\"polar\":{\"bgcolor\":\"#E5ECF6\",\"angularaxis\":{\"gridcolor\":\"white\",\"linecolor\":\"white\",\"ticks\":\"\"},\"radialaxis\":{\"gridcolor\":\"white\",\"linecolor\":\"white\",\"ticks\":\"\"}},\"ternary\":{\"bgcolor\":\"#E5ECF6\",\"aaxis\":{\"gridcolor\":\"white\",\"linecolor\":\"white\",\"ticks\":\"\"},\"baxis\":{\"gridcolor\":\"white\",\"linecolor\":\"white\",\"ticks\":\"\"},\"caxis\":{\"gridcolor\":\"white\",\"linecolor\":\"white\",\"ticks\":\"\"}},\"coloraxis\":{\"colorbar\":{\"outlinewidth\":0,\"ticks\":\"\"}},\"colorscale\":{\"sequential\":[[0.0,\"#0d0887\"],[0.1111111111111111,\"#46039f\"],[0.2222222222222222,\"#7201a8\"],[0.3333333333333333,\"#9c179e\"],[0.4444444444444444,\"#bd3786\"],[0.5555555555555556,\"#d8576b\"],[0.6666666666666666,\"#ed7953\"],[0.7777777777777778,\"#fb9f3a\"],[0.8888888888888888,\"#fdca26\"],[1.0,\"#f0f921\"]],\"sequentialminus\":[[0.0,\"#0d0887\"],[0.1111111111111111,\"#46039f\"],[0.2222222222222222,\"#7201a8\"],[0.3333333333333333,\"#9c179e\"],[0.4444444444444444,\"#bd3786\"],[0.5555555555555556,\"#d8576b\"],[0.6666666666666666,\"#ed7953\"],[0.7777777777777778,\"#fb9f3a\"],[0.8888888888888888,\"#fdca26\"],[1.0,\"#f0f921\"]],\"diverging\":[[0,\"#8e0152\"],[0.1,\"#c51b7d\"],[0.2,\"#de77ae\"],[0.3,\"#f1b6da\"],[0.4,\"#fde0ef\"],[0.5,\"#f7f7f7\"],[0.6,\"#e6f5d0\"],[0.7,\"#b8e186\"],[0.8,\"#7fbc41\"],[0.9,\"#4d9221\"],[1,\"#276419\"]]},\"xaxis\":{\"gridcolor\":\"white\",\"linecolor\":\"white\",\"ticks\":\"\",\"title\":{\"standoff\":15},\"zerolinecolor\":\"white\",\"automargin\":true,\"zerolinewidth\":2},\"yaxis\":{\"gridcolor\":\"white\",\"linecolor\":\"white\",\"ticks\":\"\",\"title\":{\"standoff\":15},\"zerolinecolor\":\"white\",\"automargin\":true,\"zerolinewidth\":2},\"scene\":{\"xaxis\":{\"backgroundcolor\":\"#E5ECF6\",\"gridcolor\":\"white\",\"linecolor\":\"white\",\"showbackground\":true,\"ticks\":\"\",\"zerolinecolor\":\"white\",\"gridwidth\":2},\"yaxis\":{\"backgroundcolor\":\"#E5ECF6\",\"gridcolor\":\"white\",\"linecolor\":\"white\",\"showbackground\":true,\"ticks\":\"\",\"zerolinecolor\":\"white\",\"gridwidth\":2},\"zaxis\":{\"backgroundcolor\":\"#E5ECF6\",\"gridcolor\":\"white\",\"linecolor\":\"white\",\"showbackground\":true,\"ticks\":\"\",\"zerolinecolor\":\"white\",\"gridwidth\":2}},\"shapedefaults\":{\"line\":{\"color\":\"#2a3f5f\"}},\"annotationdefaults\":{\"arrowcolor\":\"#2a3f5f\",\"arrowhead\":0,\"arrowwidth\":1},\"geo\":{\"bgcolor\":\"white\",\"landcolor\":\"#E5ECF6\",\"subunitcolor\":\"white\",\"showland\":true,\"showlakes\":true,\"lakecolor\":\"white\"},\"title\":{\"x\":0.05},\"mapbox\":{\"style\":\"light\"}}},\"xaxis\":{\"anchor\":\"y\",\"domain\":[0.0,1.0],\"title\":{\"text\":\"username\"}},\"yaxis\":{\"anchor\":\"x\",\"domain\":[0.0,1.0],\"title\":{\"text\":\"revision_count\"}},\"legend\":{\"tracegroupgap\":0},\"title\":{\"text\":\"Revision Count by User\"},\"barmode\":\"relative\"},                        {\"responsive\": true}                    ).then(function(){\n",
       "                            \n",
       "var gd = document.getElementById('30d32efc-1817-4303-b1c6-194cc607d10d');\n",
       "var x = new MutationObserver(function (mutations, observer) {{\n",
       "        var display = window.getComputedStyle(gd).display;\n",
       "        if (!display || display === 'none') {{\n",
       "            console.log([gd, 'removed!']);\n",
       "            Plotly.purge(gd);\n",
       "            observer.disconnect();\n",
       "        }}\n",
       "}});\n",
       "\n",
       "// Listen for the removal of the full notebook cells\n",
       "var notebookContainer = gd.closest('#notebook-container');\n",
       "if (notebookContainer) {{\n",
       "    x.observe(notebookContainer, {childList: true});\n",
       "}}\n",
       "\n",
       "// Listen for the clearing of the current output cell\n",
       "var outputEl = gd.closest('.output');\n",
       "if (outputEl) {{\n",
       "    x.observe(outputEl, {childList: true});\n",
       "}}\n",
       "\n",
       "                        })                };                });            </script>        </div>"
      ]
     },
     "metadata": {},
     "output_type": "display_data"
    }
   ],
   "source": [
    "\n",
    "fig = px.bar(dobbs_df, x='username', y='revision_count', title='Revision Count by User')\n",
    "\n",
    "# Show the plot\n",
    "fig.show()\n",
    "\n"
   ]
  },
  {
   "cell_type": "code",
   "execution_count": 53,
   "metadata": {},
   "outputs": [
    {
     "ename": "KeyError",
     "evalue": "'timestamp'",
     "output_type": "error",
     "traceback": [
      "\u001b[0;31m---------------------------------------------------------------------------\u001b[0m",
      "\u001b[0;31mKeyError\u001b[0m                                  Traceback (most recent call last)",
      "File \u001b[0;32m~/anaconda3/lib/python3.11/site-packages/pandas/core/indexes/base.py:3802\u001b[0m, in \u001b[0;36mIndex.get_loc\u001b[0;34m(self, key, method, tolerance)\u001b[0m\n\u001b[1;32m   3801\u001b[0m \u001b[38;5;28;01mtry\u001b[39;00m:\n\u001b[0;32m-> 3802\u001b[0m     \u001b[38;5;28;01mreturn\u001b[39;00m \u001b[38;5;28mself\u001b[39m\u001b[38;5;241m.\u001b[39m_engine\u001b[38;5;241m.\u001b[39mget_loc(casted_key)\n\u001b[1;32m   3803\u001b[0m \u001b[38;5;28;01mexcept\u001b[39;00m \u001b[38;5;167;01mKeyError\u001b[39;00m \u001b[38;5;28;01mas\u001b[39;00m err:\n",
      "File \u001b[0;32m~/anaconda3/lib/python3.11/site-packages/pandas/_libs/index.pyx:138\u001b[0m, in \u001b[0;36mpandas._libs.index.IndexEngine.get_loc\u001b[0;34m()\u001b[0m\n",
      "File \u001b[0;32m~/anaconda3/lib/python3.11/site-packages/pandas/_libs/index.pyx:165\u001b[0m, in \u001b[0;36mpandas._libs.index.IndexEngine.get_loc\u001b[0;34m()\u001b[0m\n",
      "File \u001b[0;32mpandas/_libs/hashtable_class_helper.pxi:5745\u001b[0m, in \u001b[0;36mpandas._libs.hashtable.PyObjectHashTable.get_item\u001b[0;34m()\u001b[0m\n",
      "File \u001b[0;32mpandas/_libs/hashtable_class_helper.pxi:5753\u001b[0m, in \u001b[0;36mpandas._libs.hashtable.PyObjectHashTable.get_item\u001b[0;34m()\u001b[0m\n",
      "\u001b[0;31mKeyError\u001b[0m: 'timestamp'",
      "\nThe above exception was the direct cause of the following exception:\n",
      "\u001b[0;31mKeyError\u001b[0m                                  Traceback (most recent call last)",
      "Cell \u001b[0;32mIn[53], line 1\u001b[0m\n\u001b[0;32m----> 1\u001b[0m dobbs_df[\u001b[38;5;124m'\u001b[39m\u001b[38;5;124mtimestamp\u001b[39m\u001b[38;5;124m'\u001b[39m] \u001b[38;5;241m=\u001b[39m dobbs_df[\u001b[38;5;124m'\u001b[39m\u001b[38;5;124mtimestamp\u001b[39m\u001b[38;5;124m'\u001b[39m]\u001b[38;5;241m.\u001b[39mastype(\u001b[38;5;28mstr\u001b[39m)\n\u001b[1;32m      3\u001b[0m \u001b[38;5;66;03m# Convert DataFrame to list of lists\u001b[39;00m\n\u001b[1;32m      4\u001b[0m dobbs_data \u001b[38;5;241m=\u001b[39m dobbs_df[[\u001b[38;5;124m'\u001b[39m\u001b[38;5;124musername\u001b[39m\u001b[38;5;124m'\u001b[39m, \u001b[38;5;124m'\u001b[39m\u001b[38;5;124mtimestamp\u001b[39m\u001b[38;5;124m'\u001b[39m]]\u001b[38;5;241m.\u001b[39mvalues\u001b[38;5;241m.\u001b[39mtolist()\n",
      "File \u001b[0;32m~/anaconda3/lib/python3.11/site-packages/pandas/core/frame.py:3807\u001b[0m, in \u001b[0;36mDataFrame.__getitem__\u001b[0;34m(self, key)\u001b[0m\n\u001b[1;32m   3805\u001b[0m \u001b[38;5;28;01mif\u001b[39;00m \u001b[38;5;28mself\u001b[39m\u001b[38;5;241m.\u001b[39mcolumns\u001b[38;5;241m.\u001b[39mnlevels \u001b[38;5;241m>\u001b[39m \u001b[38;5;241m1\u001b[39m:\n\u001b[1;32m   3806\u001b[0m     \u001b[38;5;28;01mreturn\u001b[39;00m \u001b[38;5;28mself\u001b[39m\u001b[38;5;241m.\u001b[39m_getitem_multilevel(key)\n\u001b[0;32m-> 3807\u001b[0m indexer \u001b[38;5;241m=\u001b[39m \u001b[38;5;28mself\u001b[39m\u001b[38;5;241m.\u001b[39mcolumns\u001b[38;5;241m.\u001b[39mget_loc(key)\n\u001b[1;32m   3808\u001b[0m \u001b[38;5;28;01mif\u001b[39;00m is_integer(indexer):\n\u001b[1;32m   3809\u001b[0m     indexer \u001b[38;5;241m=\u001b[39m [indexer]\n",
      "File \u001b[0;32m~/anaconda3/lib/python3.11/site-packages/pandas/core/indexes/base.py:3804\u001b[0m, in \u001b[0;36mIndex.get_loc\u001b[0;34m(self, key, method, tolerance)\u001b[0m\n\u001b[1;32m   3802\u001b[0m     \u001b[38;5;28;01mreturn\u001b[39;00m \u001b[38;5;28mself\u001b[39m\u001b[38;5;241m.\u001b[39m_engine\u001b[38;5;241m.\u001b[39mget_loc(casted_key)\n\u001b[1;32m   3803\u001b[0m \u001b[38;5;28;01mexcept\u001b[39;00m \u001b[38;5;167;01mKeyError\u001b[39;00m \u001b[38;5;28;01mas\u001b[39;00m err:\n\u001b[0;32m-> 3804\u001b[0m     \u001b[38;5;28;01mraise\u001b[39;00m \u001b[38;5;167;01mKeyError\u001b[39;00m(key) \u001b[38;5;28;01mfrom\u001b[39;00m \u001b[38;5;21;01merr\u001b[39;00m\n\u001b[1;32m   3805\u001b[0m \u001b[38;5;28;01mexcept\u001b[39;00m \u001b[38;5;167;01mTypeError\u001b[39;00m:\n\u001b[1;32m   3806\u001b[0m     \u001b[38;5;66;03m# If we have a listlike key, _check_indexing_error will raise\u001b[39;00m\n\u001b[1;32m   3807\u001b[0m     \u001b[38;5;66;03m#  InvalidIndexError. Otherwise we fall through and re-raise\u001b[39;00m\n\u001b[1;32m   3808\u001b[0m     \u001b[38;5;66;03m#  the TypeError.\u001b[39;00m\n\u001b[1;32m   3809\u001b[0m     \u001b[38;5;28mself\u001b[39m\u001b[38;5;241m.\u001b[39m_check_indexing_error(key)\n",
      "\u001b[0;31mKeyError\u001b[0m: 'timestamp'"
     ]
    }
   ],
   "source": [
    "\n",
    "dobbs_df['timestamp'] = dobbs_df['timestamp'].astype(str)\n",
    "\n",
    "# Convert DataFrame to list of lists\n",
    "dobbs_data = dobbs_df[['username', 'timestamp']].values.tolist()\n",
    "\n",
    "\n"
   ]
  },
  {
   "cell_type": "code",
   "execution_count": null,
   "metadata": {},
   "outputs": [],
   "source": [
    "# Write data to JSON file\n",
    "with open('dobbsVJaksonRevisions.json', 'w') as file:\n",
    "    json.dump(dobbs_data, file)"
   ]
  }
 ],
 "metadata": {
  "kernelspec": {
   "display_name": "Python 3 (ipykernel)",
   "language": "python",
   "name": "python3"
  },
  "language_info": {
   "codemirror_mode": {
    "name": "ipython",
    "version": 3
   },
   "file_extension": ".py",
   "mimetype": "text/x-python",
   "name": "python",
   "nbconvert_exporter": "python",
   "pygments_lexer": "ipython3",
   "version": "3.11.3"
  }
 },
 "nbformat": 4,
 "nbformat_minor": 1
}
